{
 "cells": [
  {
   "cell_type": "code",
   "execution_count": null,
   "metadata": {
    "collapsed": true
   },
   "outputs": [],
   "source": [
    "python -m eval.interpolator_cli --pattern \"\\\\shelter\\Kyu\\motility_interpolation\\filmtest\\*\\original_frames\" --times_to_interpolate 1 --model_path \"\\\\shelter\\Kyu\\motility_interpolation\\pretrained_models\\film_net\\Style\\saved_model\""
   ]
  },
  {
   "cell_type": "code",
   "execution_count": null,
   "outputs": [],
   "source": [
    "python -m eval.interpolator_test --frame1=\\\\shelter\\Kyu\\motility_interpolation\\testv1_pair\\sequences\\xy026\\000\\im1.png --frame2=\\\\shelter\\Kyu\\motility_interpolation\\testv1_pair\\sequences\\xy026\\000\\im3.png --model_path=\\\\shelter\\Kyu\\motility_interpolation\\labelfortherun\\saved_model --output_frame=\\\\shelter\\Kyu\\motility_interpolation\\testv1_pair\\sequences\\xy026\\000\\im2.png"
   ],
   "metadata": {
    "collapsed": false
   }
  },
  {
   "cell_type": "code",
   "execution_count": null,
   "outputs": [],
   "source": [
    "python -m eval.interpolator_test --frame1=\\\\shelter\\Kyu\\motility_interpolation\\testv1_pair\\sequences\\xy026\\000\\im1.png --frame2=\\\\shelter\\Kyu\\motility_interpolation\\testv1_pair\\sequences\\xy026\\000\\im3.png --model_path=\\\\shelter\\Kyu\\motility_interpolation\\pretrained_models\\film_net\\Style\\saved_model --output_frame=\\\\shelter\\Kyu\\motility_interpolation\\testv1_pair\\sequences\\xy026\\000\\im2.png"
   ],
   "metadata": {
    "collapsed": false
   }
  },
  {
   "cell_type": "code",
   "execution_count": 1,
   "outputs": [],
   "source": [
    "from eval import interpolator as interpolator_lib\n",
    "from eval import util\n",
    "import numpy as np"
   ],
   "metadata": {
    "collapsed": false
   }
  },
  {
   "cell_type": "code",
   "execution_count": 3,
   "outputs": [],
   "source": [
    "interpolator = interpolator_lib.Interpolator(\n",
    "      model_path=r'\\\\shelter\\Kyu\\motility_interpolation\\pretrained_models\\film_net\\Style\\saved_model',\n",
    "      align=64,\n",
    "      block_shape=[1,1])"
   ],
   "metadata": {
    "collapsed": false
   }
  },
  {
   "cell_type": "code",
   "execution_count": 4,
   "outputs": [],
   "source": [
    "# First batched image.\n",
    "image_1 = util.read_image(r'\\\\shelter\\Kyu\\motility_interpolation\\testv1_pair\\sequences\\xy026\\000\\im1.png')\n",
    "image_batch_1 = np.expand_dims(image_1, axis=0)\n",
    "\n",
    "# Second batched image.\n",
    "image_2 = util.read_image(r'\\\\shelter\\Kyu\\motility_interpolation\\testv1_pair\\sequences\\xy026\\000\\im3.png')\n",
    "image_batch_2 = np.expand_dims(image_2, axis=0)\n",
    "\n",
    "# Batched time.\n",
    "batch_dt = np.full(shape=(1,), fill_value=0.5, dtype=np.float32)\n",
    "\n",
    "# Invoke the model for one mid-frame interpolation.\n",
    "mid_frame = interpolator(image_batch_1, image_batch_2, batch_dt)[0]\n",
    "\n",
    "# Write interpolated mid-frame.\n",
    "mid_frame_filepath = r'\\\\shelter\\Kyu\\motility_interpolation\\testv1_pair\\sequences\\xy026\\000\\im2.png'\n",
    "util.write_image(mid_frame_filepath, mid_frame)"
   ],
   "metadata": {
    "collapsed": false
   }
  },
  {
   "cell_type": "code",
   "execution_count": null,
   "outputs": [],
   "source": [],
   "metadata": {
    "collapsed": false
   }
  }
 ],
 "metadata": {
  "kernelspec": {
   "display_name": "Python 3",
   "language": "python",
   "name": "python3"
  },
  "language_info": {
   "codemirror_mode": {
    "name": "ipython",
    "version": 2
   },
   "file_extension": ".py",
   "mimetype": "text/x-python",
   "name": "python",
   "nbconvert_exporter": "python",
   "pygments_lexer": "ipython2",
   "version": "2.7.6"
  }
 },
 "nbformat": 4,
 "nbformat_minor": 0
}
