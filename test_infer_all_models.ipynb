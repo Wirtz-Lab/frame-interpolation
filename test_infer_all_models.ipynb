{
 "cells": [
  {
   "cell_type": "code",
   "execution_count": 2,
   "metadata": {
    "collapsed": true
   },
   "outputs": [],
   "source": [
    "import os"
   ]
  },
  {
   "cell_type": "code",
   "execution_count": 15,
   "outputs": [
    {
     "name": "stdout",
     "output_type": "stream",
     "text": [
      "model \\\\10.99.68.178\\Saurabh\\film_train_v2\\sequences\\trained_models\\allskip3\\saved_model \n",
      " on test folder \\\\10.99.68.178\\Saurabh\\film_train_v2\\sequences\\extra_test_imgs\\ft\\xy01024\n",
      " on testing location xy01024\n",
      "\n",
      "\n",
      "model \\\\10.99.68.178\\Saurabh\\film_train_v2\\sequences\\trained_models\\allskip3\\saved_model \n",
      " on test folder \\\\10.99.68.178\\Saurabh\\film_train_v2\\sequences\\extra_test_imgs\\liver\\xy01024\n",
      " on testing location xy01024\n",
      "\n",
      "\n",
      "model \\\\10.99.68.178\\Saurabh\\film_train_v2\\sequences\\trained_models\\allskip3\\saved_model \n",
      " on test folder \\\\10.99.68.178\\Saurabh\\film_train_v2\\sequences\\extra_test_imgs\\lung\\xy01024\n",
      " on testing location xy01024\n",
      "\n",
      "\n",
      "model \\\\10.99.68.178\\Saurabh\\film_train_v2\\sequences\\trained_models\\allskip3\\saved_model \n",
      " on test folder \\\\10.99.68.178\\Saurabh\\film_train_v2\\sequences\\extra_test_imgs\\pnc\\xy01024\n",
      " on testing location xy01024\n",
      "\n",
      "\n",
      "model \\\\10.99.68.178\\Saurabh\\film_train_v2\\sequences\\trained_models\\ftskip3\\saved_model \n",
      " on test folder \\\\10.99.68.178\\Saurabh\\film_train_v2\\sequences\\extra_test_imgs\\ft\\xy01024\n",
      " on testing location xy01024\n",
      "\n",
      "\n",
      "model \\\\10.99.68.178\\Saurabh\\film_train_v2\\sequences\\trained_models\\ftskip3\\saved_model \n",
      " on test folder \\\\10.99.68.178\\Saurabh\\film_train_v2\\sequences\\extra_test_imgs\\liver\\xy01024\n",
      " on testing location xy01024\n",
      "\n",
      "\n",
      "model \\\\10.99.68.178\\Saurabh\\film_train_v2\\sequences\\trained_models\\ftskip3\\saved_model \n",
      " on test folder \\\\10.99.68.178\\Saurabh\\film_train_v2\\sequences\\extra_test_imgs\\lung\\xy01024\n",
      " on testing location xy01024\n",
      "\n",
      "\n",
      "model \\\\10.99.68.178\\Saurabh\\film_train_v2\\sequences\\trained_models\\ftskip3\\saved_model \n",
      " on test folder \\\\10.99.68.178\\Saurabh\\film_train_v2\\sequences\\extra_test_imgs\\pnc\\xy01024\n",
      " on testing location xy01024\n",
      "\n",
      "\n",
      "model \\\\10.99.68.178\\Saurabh\\film_train_v2\\sequences\\trained_models\\livskip3\\saved_model \n",
      " on test folder \\\\10.99.68.178\\Saurabh\\film_train_v2\\sequences\\extra_test_imgs\\ft\\xy01024\n",
      " on testing location xy01024\n",
      "\n",
      "\n",
      "model \\\\10.99.68.178\\Saurabh\\film_train_v2\\sequences\\trained_models\\livskip3\\saved_model \n",
      " on test folder \\\\10.99.68.178\\Saurabh\\film_train_v2\\sequences\\extra_test_imgs\\liver\\xy01024\n",
      " on testing location xy01024\n",
      "\n",
      "\n",
      "model \\\\10.99.68.178\\Saurabh\\film_train_v2\\sequences\\trained_models\\livskip3\\saved_model \n",
      " on test folder \\\\10.99.68.178\\Saurabh\\film_train_v2\\sequences\\extra_test_imgs\\lung\\xy01024\n",
      " on testing location xy01024\n",
      "\n",
      "\n",
      "model \\\\10.99.68.178\\Saurabh\\film_train_v2\\sequences\\trained_models\\livskip3\\saved_model \n",
      " on test folder \\\\10.99.68.178\\Saurabh\\film_train_v2\\sequences\\extra_test_imgs\\pnc\\xy01024\n",
      " on testing location xy01024\n",
      "\n",
      "\n"
     ]
    }
   ],
   "source": [
    "models=['allskip3','ftskip3','livskip3']\n",
    "test_fld=['ft','liver','lung','pnc']\n",
    "testlocs=['xy01024']\n",
    "\n",
    "testpth=r'\\\\10.99.68.178\\Saurabh\\film_train_v2\\sequences\\extra_test_imgs'\n",
    "modelpth=r\"\\\\10.99.68.178\\Saurabh\\film_train_v2\\sequences\\trained_models\" # allskip3\\saved_model\n",
    "\n",
    "# goes through all models\n",
    "for kk in range(len(models)):\n",
    "\n",
    "    modelpth2=os.path.join(modelpth,models[kk],'saved_model')\n",
    "\n",
    "    # print(modelpth2)\n",
    "    # goes through all testing folders\n",
    "    for lol in range(len(test_fld)):\n",
    "\n",
    "        # testing locations\n",
    "        for xx in range(len(testlocs)):\n",
    "            testpth2=os.path.join(testpth,test_fld[lol],testlocs[xx])\n",
    "            print(f'model {modelpth2} \\n on test folder {testpth2}\\n on testing location {testlocs[xx]}\\n\\n')\n",
    "            # python -m eval.interpolator_cli --pattern testpth2 --times_to_interpolate 1 --model_path modelpth2"
   ],
   "metadata": {
    "collapsed": false
   }
  },
  {
   "cell_type": "code",
   "execution_count": null,
   "outputs": [],
   "source": [],
   "metadata": {
    "collapsed": false
   }
  }
 ],
 "metadata": {
  "kernelspec": {
   "display_name": "Python 3",
   "language": "python",
   "name": "python3"
  },
  "language_info": {
   "codemirror_mode": {
    "name": "ipython",
    "version": 2
   },
   "file_extension": ".py",
   "mimetype": "text/x-python",
   "name": "python",
   "nbconvert_exporter": "python",
   "pygments_lexer": "ipython2",
   "version": "2.7.6"
  }
 },
 "nbformat": 4,
 "nbformat_minor": 0
}
