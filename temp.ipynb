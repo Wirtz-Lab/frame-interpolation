{
 "cells": [
  {
   "cell_type": "code",
   "execution_count": 1,
   "metadata": {
    "collapsed": true,
    "ExecuteTime": {
     "start_time": "2023-04-06T22:32:02.674774Z",
     "end_time": "2023-04-06T22:32:02.780905Z"
    }
   },
   "outputs": [],
   "source": [
    "import numpy as np\n",
    "from PIL import Image\n",
    "from typing import List, Optional\n",
    "Image.MAX_IMAGE_PIXELS=None"
   ]
  },
  {
   "cell_type": "code",
   "execution_count": 2,
   "outputs": [
    {
     "name": "stdout",
     "output_type": "stream",
     "text": [
      "2.6.0\n"
     ]
    }
   ],
   "source": [
    "import tensorflow as tf\n",
    "print(tf.__version__)"
   ],
   "metadata": {
    "collapsed": false,
    "ExecuteTime": {
     "start_time": "2023-04-06T22:32:02.780905Z",
     "end_time": "2023-04-06T22:32:04.465439Z"
    }
   }
  },
  {
   "cell_type": "code",
   "execution_count": 3,
   "outputs": [],
   "source": [
    "from eval.interpolator import Interpolator\n",
    "it = Interpolator(r'\\\\shelter\\Kyu\\3D_skin\\pretrained_models\\film_net\\Style\\saved_model')"
   ],
   "metadata": {
    "collapsed": false,
    "ExecuteTime": {
     "start_time": "2023-04-06T22:32:07.927497Z",
     "end_time": "2023-04-06T22:32:20.701610Z"
    }
   }
  },
  {
   "cell_type": "code",
   "execution_count": 4,
   "outputs": [],
   "source": [
    "x0=np.array(Image.open(r\"\\\\fatherserverdw\\Saurabh\\Saurabh\\Pancreas_Ashley_Files\\registered_10x_images\\TC_001_0001.tif\"))\n",
    "x1=np.array(Image.open(r\"\\\\fatherserverdw\\Saurabh\\Saurabh\\Pancreas_Ashley_Files\\registered_10x_images\\TC_001_0003.tif\"))"
   ],
   "metadata": {
    "collapsed": false,
    "ExecuteTime": {
     "start_time": "2023-04-06T22:32:23.108035Z",
     "end_time": "2023-04-06T22:33:27.665634Z"
    }
   }
  },
  {
   "cell_type": "code",
   "execution_count": 6,
   "outputs": [
    {
     "data": {
      "text/plain": "(27968, 29712, 3)"
     },
     "execution_count": 6,
     "metadata": {},
     "output_type": "execute_result"
    }
   ],
   "source": [
    "x1.shape"
   ],
   "metadata": {
    "collapsed": false,
    "ExecuteTime": {
     "start_time": "2023-04-06T22:33:56.471241Z",
     "end_time": "2023-04-06T22:33:56.496266Z"
    }
   }
  },
  {
   "cell_type": "code",
   "execution_count": 79,
   "outputs": [],
   "source": [
    "def image_to_patches(image: np.ndarray, block_shape: List[int]) -> np.ndarray:\n",
    "  \"\"\"Folds an image into patches and stacks along the batch dimension.\n",
    "\n",
    "  Args:\n",
    "    image: The input image of shape [B, H, W, C].\n",
    "    block_shape: The number of patches along the height and width to extract.\n",
    "      Each patch is shaped (H/block_shape[0], W/block_shape[1])\n",
    "\n",
    "  Returns:\n",
    "    The extracted patches shaped [num_blocks, patch_height, patch_width,...],\n",
    "      with num_blocks = block_shape[0] * block_shape[1].\n",
    "  \"\"\"\n",
    "  block_height, block_width = block_shape\n",
    "  num_blocks = block_height * block_width\n",
    "\n",
    "  height, width, channel = image.shape[-3:]\n",
    "  patch_height, patch_width = height//block_height, width//block_width\n",
    "\n",
    "  assert height == (\n",
    "      patch_height * block_height\n",
    "  ), 'block_height=%d should evenly divide height=%d.'%(block_height, height)\n",
    "  assert width == (\n",
    "      patch_width * block_width\n",
    "  ), 'block_width=%d should evenly divide width=%d.'%(block_width, width)\n",
    "\n",
    "  patch_size = patch_height * patch_width\n",
    "  paddings = 2*[[0, 0]]\n",
    "\n",
    "  patches = tf.space_to_batch(image, [patch_height, patch_width], paddings)\n",
    "  patches = tf.split(patches, patch_size, 0)\n",
    "  patches = tf.stack(patches, axis=3)\n",
    "  patches = tf.reshape(patches,\n",
    "                       [num_blocks, patch_height, patch_width, channel])\n",
    "  return patches.numpy()\n",
    "\n",
    "\n",
    "def patches_to_image(patches: np.ndarray, block_shape: List[int]) -> np.ndarray:\n",
    "  \"\"\"Unfolds patches (stacked along batch) into an image.\n",
    "\n",
    "  Args:\n",
    "    patches: The input patches, shaped [num_patches, patch_H, patch_W, C].\n",
    "    block_shape: The number of patches along the height and width to unfold.\n",
    "      Each patch assumed to be shaped (H/block_shape[0], W/block_shape[1]).\n",
    "\n",
    "  Returns:\n",
    "    The unfolded image shaped [B, H, W, C].\n",
    "  \"\"\"\n",
    "  block_height, block_width = block_shape\n",
    "  # paddings = 2 * [[0, 0, 0]]\n",
    "\n",
    "  patch_height, patch_width, channel = patches.shape[-3:]\n",
    "  patch_size = patch_height * patch_width\n",
    "\n",
    "  patches = tf.reshape(patches,\n",
    "                       [1, block_height, block_width, patch_size, channel])\n",
    "  patches = tf.split(patches, patch_size, axis=3)\n",
    "  patches = tf.stack(patches, axis=0)\n",
    "  patches = tf.reshape(patches,\n",
    "                       [patch_size, block_height, block_width, channel])\n",
    "  image = tf.batch_to_space(patches, [patch_height, patch_width], paddings)\n",
    "  return image.numpy()\n"
   ],
   "metadata": {
    "collapsed": false,
    "ExecuteTime": {
     "start_time": "2023-04-06T23:07:19.700227Z",
     "end_time": "2023-04-06T23:07:19.707232Z"
    }
   }
  },
  {
   "cell_type": "code",
   "execution_count": 77,
   "outputs": [],
   "source": [
    "block_shape=( 1024,1024)"
   ],
   "metadata": {
    "collapsed": false,
    "ExecuteTime": {
     "start_time": "2023-04-06T23:07:07.016967Z",
     "end_time": "2023-04-06T23:07:07.027976Z"
    }
   }
  },
  {
   "cell_type": "code",
   "execution_count": 64,
   "outputs": [],
   "source": [
    "image = x0\n",
    "block_height, block_width = block_shape\n",
    "num_blocks = block_height * block_width"
   ],
   "metadata": {
    "collapsed": false,
    "ExecuteTime": {
     "start_time": "2023-04-06T23:03:08.635951Z",
     "end_time": "2023-04-06T23:03:08.651965Z"
    }
   }
  },
  {
   "cell_type": "code",
   "execution_count": 65,
   "outputs": [],
   "source": [
    "image = x0[0:1024*2, 0:1024*2]"
   ],
   "metadata": {
    "collapsed": false,
    "ExecuteTime": {
     "start_time": "2023-04-06T23:03:09.057164Z",
     "end_time": "2023-04-06T23:03:09.062168Z"
    }
   }
  },
  {
   "cell_type": "code",
   "execution_count": 66,
   "outputs": [
    {
     "data": {
      "text/plain": "(27648, 27648, 3)"
     },
     "execution_count": 66,
     "metadata": {},
     "output_type": "execute_result"
    }
   ],
   "source": [
    "image = x0[0:(27968//1024)*1024, 0:(27968//1024)*1024]\n",
    "image.shape"
   ],
   "metadata": {
    "collapsed": false,
    "ExecuteTime": {
     "start_time": "2023-04-06T23:03:09.693193Z",
     "end_time": "2023-04-06T23:03:09.719698Z"
    }
   }
  },
  {
   "cell_type": "code",
   "execution_count": 60,
   "outputs": [
    {
     "data": {
      "text/plain": "(27648, 27648, 3)"
     },
     "execution_count": 60,
     "metadata": {},
     "output_type": "execute_result"
    }
   ],
   "source": [
    "x0[0:(27968//1024)*1024, 0:(27968//1024)*1024].shape"
   ],
   "metadata": {
    "collapsed": false,
    "ExecuteTime": {
     "start_time": "2023-04-06T23:02:31.830352Z",
     "end_time": "2023-04-06T23:02:31.845362Z"
    }
   }
  },
  {
   "cell_type": "code",
   "execution_count": 52,
   "outputs": [
    {
     "ename": "SyntaxError",
     "evalue": "invalid syntax (1301612043.py, line 1)",
     "output_type": "error",
     "traceback": [
      "\u001B[1;36m  Cell \u001B[1;32mIn[52], line 1\u001B[1;36m\u001B[0m\n\u001B[1;33m    (27968//1024)*1024sdf;\u001B[0m\n\u001B[1;37m                      ^\u001B[0m\n\u001B[1;31mSyntaxError\u001B[0m\u001B[1;31m:\u001B[0m invalid syntax\n"
     ]
    }
   ],
   "source": [
    "(27968//1024)*1024"
   ],
   "metadata": {
    "collapsed": false,
    "ExecuteTime": {
     "start_time": "2023-04-06T22:42:50.825644Z",
     "end_time": "2023-04-06T22:42:50.840658Z"
    }
   }
  },
  {
   "cell_type": "code",
   "execution_count": 99,
   "outputs": [
    {
     "ename": "InvalidArgumentError",
     "evalue": "padded_shape[1]=3 is not divisible by block_shape[1]=27 [Op:SpaceToBatchND]",
     "output_type": "error",
     "traceback": [
      "\u001B[1;31m---------------------------------------------------------------------------\u001B[0m",
      "\u001B[1;31mInvalidArgumentError\u001B[0m                      Traceback (most recent call last)",
      "Cell \u001B[1;32mIn[99], line 18\u001B[0m\n\u001B[0;32m     15\u001B[0m patch_size \u001B[38;5;241m=\u001B[39m patch_height \u001B[38;5;241m*\u001B[39m patch_width\n\u001B[0;32m     16\u001B[0m paddings \u001B[38;5;241m=\u001B[39m \u001B[38;5;241m2\u001B[39m\u001B[38;5;241m*\u001B[39m[[\u001B[38;5;241m0\u001B[39m, \u001B[38;5;241m0\u001B[39m]]\n\u001B[1;32m---> 18\u001B[0m patches \u001B[38;5;241m=\u001B[39m \u001B[43mtf\u001B[49m\u001B[38;5;241;43m.\u001B[39;49m\u001B[43mspace_to_batch_nd\u001B[49m\u001B[43m(\u001B[49m\u001B[43mimage\u001B[49m\u001B[43m,\u001B[49m\u001B[43m \u001B[49m\u001B[43m[\u001B[49m\u001B[43mpatch_height\u001B[49m\u001B[43m,\u001B[49m\u001B[43m \u001B[49m\u001B[43mpatch_width\u001B[49m\u001B[43m]\u001B[49m\u001B[43m,\u001B[49m\u001B[43m \u001B[49m\u001B[43mpaddings\u001B[49m\u001B[43m)\u001B[49m\n",
      "File \u001B[1;32m~\\.conda\\envs\\frame-interpolation1\\lib\\site-packages\\tensorflow\\python\\ops\\gen_array_ops.py:9802\u001B[0m, in \u001B[0;36mspace_to_batch_nd\u001B[1;34m(input, block_shape, paddings, name)\u001B[0m\n\u001B[0;32m   9800\u001B[0m   \u001B[38;5;28;01mpass\u001B[39;00m\n\u001B[0;32m   9801\u001B[0m \u001B[38;5;28;01mtry\u001B[39;00m:\n\u001B[1;32m-> 9802\u001B[0m   \u001B[38;5;28;01mreturn\u001B[39;00m \u001B[43mspace_to_batch_nd_eager_fallback\u001B[49m\u001B[43m(\u001B[49m\n\u001B[0;32m   9803\u001B[0m \u001B[43m      \u001B[49m\u001B[38;5;28;43minput\u001B[39;49m\u001B[43m,\u001B[49m\u001B[43m \u001B[49m\u001B[43mblock_shape\u001B[49m\u001B[43m,\u001B[49m\u001B[43m \u001B[49m\u001B[43mpaddings\u001B[49m\u001B[43m,\u001B[49m\u001B[43m \u001B[49m\u001B[43mname\u001B[49m\u001B[38;5;241;43m=\u001B[39;49m\u001B[43mname\u001B[49m\u001B[43m,\u001B[49m\u001B[43m \u001B[49m\u001B[43mctx\u001B[49m\u001B[38;5;241;43m=\u001B[39;49m\u001B[43m_ctx\u001B[49m\u001B[43m)\u001B[49m\n\u001B[0;32m   9804\u001B[0m \u001B[38;5;28;01mexcept\u001B[39;00m _core\u001B[38;5;241m.\u001B[39m_SymbolicException:\n\u001B[0;32m   9805\u001B[0m   \u001B[38;5;28;01mpass\u001B[39;00m  \u001B[38;5;66;03m# Add nodes to the TensorFlow graph.\u001B[39;00m\n",
      "File \u001B[1;32m~\\.conda\\envs\\frame-interpolation1\\lib\\site-packages\\tensorflow\\python\\ops\\gen_array_ops.py:9848\u001B[0m, in \u001B[0;36mspace_to_batch_nd_eager_fallback\u001B[1;34m(input, block_shape, paddings, name, ctx)\u001B[0m\n\u001B[0;32m   9845\u001B[0m _inputs_flat \u001B[38;5;241m=\u001B[39m [\u001B[38;5;28minput\u001B[39m, block_shape, paddings]\n\u001B[0;32m   9846\u001B[0m _attrs \u001B[38;5;241m=\u001B[39m (\u001B[38;5;124m\"\u001B[39m\u001B[38;5;124mT\u001B[39m\u001B[38;5;124m\"\u001B[39m, _attr_T, \u001B[38;5;124m\"\u001B[39m\u001B[38;5;124mTblock_shape\u001B[39m\u001B[38;5;124m\"\u001B[39m, _attr_Tblock_shape, \u001B[38;5;124m\"\u001B[39m\u001B[38;5;124mTpaddings\u001B[39m\u001B[38;5;124m\"\u001B[39m,\n\u001B[0;32m   9847\u001B[0m _attr_Tpaddings)\n\u001B[1;32m-> 9848\u001B[0m _result \u001B[38;5;241m=\u001B[39m \u001B[43m_execute\u001B[49m\u001B[38;5;241;43m.\u001B[39;49m\u001B[43mexecute\u001B[49m\u001B[43m(\u001B[49m\u001B[38;5;124;43mb\u001B[39;49m\u001B[38;5;124;43m\"\u001B[39;49m\u001B[38;5;124;43mSpaceToBatchND\u001B[39;49m\u001B[38;5;124;43m\"\u001B[39;49m\u001B[43m,\u001B[49m\u001B[43m \u001B[49m\u001B[38;5;241;43m1\u001B[39;49m\u001B[43m,\u001B[49m\u001B[43m \u001B[49m\u001B[43minputs\u001B[49m\u001B[38;5;241;43m=\u001B[39;49m\u001B[43m_inputs_flat\u001B[49m\u001B[43m,\u001B[49m\n\u001B[0;32m   9849\u001B[0m \u001B[43m                           \u001B[49m\u001B[43mattrs\u001B[49m\u001B[38;5;241;43m=\u001B[39;49m\u001B[43m_attrs\u001B[49m\u001B[43m,\u001B[49m\u001B[43m \u001B[49m\u001B[43mctx\u001B[49m\u001B[38;5;241;43m=\u001B[39;49m\u001B[43mctx\u001B[49m\u001B[43m,\u001B[49m\u001B[43m \u001B[49m\u001B[43mname\u001B[49m\u001B[38;5;241;43m=\u001B[39;49m\u001B[43mname\u001B[49m\u001B[43m)\u001B[49m\n\u001B[0;32m   9850\u001B[0m \u001B[38;5;28;01mif\u001B[39;00m _execute\u001B[38;5;241m.\u001B[39mmust_record_gradient():\n\u001B[0;32m   9851\u001B[0m   _execute\u001B[38;5;241m.\u001B[39mrecord_gradient(\n\u001B[0;32m   9852\u001B[0m       \u001B[38;5;124m\"\u001B[39m\u001B[38;5;124mSpaceToBatchND\u001B[39m\u001B[38;5;124m\"\u001B[39m, _inputs_flat, _attrs, _result)\n",
      "File \u001B[1;32m~\\.conda\\envs\\frame-interpolation1\\lib\\site-packages\\tensorflow\\python\\eager\\execute.py:59\u001B[0m, in \u001B[0;36mquick_execute\u001B[1;34m(op_name, num_outputs, inputs, attrs, ctx, name)\u001B[0m\n\u001B[0;32m     57\u001B[0m \u001B[38;5;28;01mtry\u001B[39;00m:\n\u001B[0;32m     58\u001B[0m   ctx\u001B[38;5;241m.\u001B[39mensure_initialized()\n\u001B[1;32m---> 59\u001B[0m   tensors \u001B[38;5;241m=\u001B[39m \u001B[43mpywrap_tfe\u001B[49m\u001B[38;5;241;43m.\u001B[39;49m\u001B[43mTFE_Py_Execute\u001B[49m\u001B[43m(\u001B[49m\u001B[43mctx\u001B[49m\u001B[38;5;241;43m.\u001B[39;49m\u001B[43m_handle\u001B[49m\u001B[43m,\u001B[49m\u001B[43m \u001B[49m\u001B[43mdevice_name\u001B[49m\u001B[43m,\u001B[49m\u001B[43m \u001B[49m\u001B[43mop_name\u001B[49m\u001B[43m,\u001B[49m\n\u001B[0;32m     60\u001B[0m \u001B[43m                                      \u001B[49m\u001B[43minputs\u001B[49m\u001B[43m,\u001B[49m\u001B[43m \u001B[49m\u001B[43mattrs\u001B[49m\u001B[43m,\u001B[49m\u001B[43m \u001B[49m\u001B[43mnum_outputs\u001B[49m\u001B[43m)\u001B[49m\n\u001B[0;32m     61\u001B[0m \u001B[38;5;28;01mexcept\u001B[39;00m core\u001B[38;5;241m.\u001B[39m_NotOkStatusException \u001B[38;5;28;01mas\u001B[39;00m e:\n\u001B[0;32m     62\u001B[0m   \u001B[38;5;28;01mif\u001B[39;00m name \u001B[38;5;129;01mis\u001B[39;00m \u001B[38;5;129;01mnot\u001B[39;00m \u001B[38;5;28;01mNone\u001B[39;00m:\n",
      "\u001B[1;31mInvalidArgumentError\u001B[0m: padded_shape[1]=3 is not divisible by block_shape[1]=27 [Op:SpaceToBatchND]"
     ]
    }
   ],
   "source": [
    "image=x0[0:(27968//1024)*1024,0:(27968//1024)*1024]\n",
    "block_shape=(1024,1024)\n",
    "block_height, block_width = block_shape\n",
    "num_blocks = block_height * block_width\n",
    "height, width, channel = image.shape[-3:]\n",
    "patch_height, patch_width = height//block_height, width//block_width\n",
    "\n",
    "assert height == (\n",
    "    patch_height * block_height\n",
    "), 'block_height=%d should evenly divide height=%d.'%(block_height, height)\n",
    "assert width == (\n",
    "    patch_width * block_width\n",
    "), 'block_width=%d should evenly divide width=%d.'%(block_width, width)\n",
    "\n",
    "patch_size = patch_height * patch_width\n",
    "paddings = 2*[[0, 0]]\n",
    "\n",
    "patches = tf.space_to_batch_nd(image, [patch_height, patch_width], paddings)\n"
   ],
   "metadata": {
    "collapsed": false,
    "ExecuteTime": {
     "start_time": "2023-04-06T23:17:13.188623Z",
     "end_time": "2023-04-06T23:17:13.192626Z"
    }
   }
  },
  {
   "cell_type": "code",
   "execution_count": null,
   "outputs": [],
   "source": [],
   "metadata": {
    "collapsed": false
   }
  },
  {
   "cell_type": "code",
   "execution_count": 96,
   "outputs": [
    {
     "data": {
      "text/plain": "29"
     },
     "execution_count": 96,
     "metadata": {},
     "output_type": "execute_result"
    }
   ],
   "source": [
    "\n",
    "\n"
   ],
   "metadata": {
    "collapsed": false,
    "ExecuteTime": {
     "start_time": "2023-04-06T23:18:05.403048Z",
     "end_time": "2023-04-06T23:18:05.416061Z"
    }
   }
  },
  {
   "cell_type": "code",
   "execution_count": 97,
   "outputs": [
    {
     "ename": "AssertionError",
     "evalue": "block_height=1024 should evenly divide height=27.",
     "output_type": "error",
     "traceback": [
      "\u001B[1;31m---------------------------------------------------------------------------\u001B[0m",
      "\u001B[1;31mAssertionError\u001B[0m                            Traceback (most recent call last)",
      "Cell \u001B[1;32mIn[97], line 3\u001B[0m\n\u001B[0;32m      1\u001B[0m patch_height, patch_width \u001B[38;5;241m=\u001B[39m height\u001B[38;5;241m/\u001B[39m\u001B[38;5;241m/\u001B[39mblock_height, width\u001B[38;5;241m/\u001B[39m\u001B[38;5;241m/\u001B[39mblock_width\n\u001B[1;32m----> 3\u001B[0m \u001B[38;5;28;01massert\u001B[39;00m height \u001B[38;5;241m==\u001B[39m (\n\u001B[0;32m      4\u001B[0m     patch_height \u001B[38;5;241m*\u001B[39m block_height\n\u001B[0;32m      5\u001B[0m ), \u001B[38;5;124m'\u001B[39m\u001B[38;5;124mblock_height=\u001B[39m\u001B[38;5;132;01m%d\u001B[39;00m\u001B[38;5;124m should evenly divide height=\u001B[39m\u001B[38;5;132;01m%d\u001B[39;00m\u001B[38;5;124m.\u001B[39m\u001B[38;5;124m'\u001B[39m\u001B[38;5;241m%\u001B[39m(block_height, height)\n\u001B[0;32m      6\u001B[0m \u001B[38;5;28;01massert\u001B[39;00m width \u001B[38;5;241m==\u001B[39m (\n\u001B[0;32m      7\u001B[0m     patch_width \u001B[38;5;241m*\u001B[39m block_width\n\u001B[0;32m      8\u001B[0m ), \u001B[38;5;124m'\u001B[39m\u001B[38;5;124mblock_width=\u001B[39m\u001B[38;5;132;01m%d\u001B[39;00m\u001B[38;5;124m should evenly divide width=\u001B[39m\u001B[38;5;132;01m%d\u001B[39;00m\u001B[38;5;124m.\u001B[39m\u001B[38;5;124m'\u001B[39m\u001B[38;5;241m%\u001B[39m(block_width, width)\n\u001B[0;32m     10\u001B[0m patch_size \u001B[38;5;241m=\u001B[39m patch_height \u001B[38;5;241m*\u001B[39m patch_width\n",
      "\u001B[1;31mAssertionError\u001B[0m: block_height=1024 should evenly divide height=27."
     ]
    }
   ],
   "source": [
    "\n",
    "patch_height, patch_width = height//block_height, width//block_width\n",
    "\n",
    "assert height == (\n",
    "    patch_height * block_height\n",
    "), 'block_height=%d should evenly divide height=%d.'%(block_height, height)\n",
    "assert width == (\n",
    "    patch_width * block_width\n",
    "), 'block_width=%d should evenly divide width=%d.'%(block_width, width)\n",
    "\n",
    "patch_size = patch_height * patch_width\n",
    "paddings = 2*[[0, 0]]\n",
    "\n",
    "patches = tf.space_to_batch_nd(image, [patch_height, patch_width], paddings)"
   ],
   "metadata": {
    "collapsed": false
   }
  },
  {
   "cell_type": "code",
   "execution_count": 100,
   "outputs": [
    {
     "ename": "InvalidArgumentError",
     "evalue": "padded_shape[1]=3 is not divisible by block_shape[1]=24 [Op:SpaceToBatchND]",
     "output_type": "error",
     "traceback": [
      "\u001B[1;31m---------------------------------------------------------------------------\u001B[0m",
      "\u001B[1;31mInvalidArgumentError\u001B[0m                      Traceback (most recent call last)",
      "Cell \u001B[1;32mIn[100], line 1\u001B[0m\n\u001B[1;32m----> 1\u001B[0m x0_patches \u001B[38;5;241m=\u001B[39m \u001B[43mimage_to_patches\u001B[49m\u001B[43m(\u001B[49m\u001B[43mx0\u001B[49m\u001B[43m[\u001B[49m\u001B[38;5;241;43m0\u001B[39;49m\u001B[43m:\u001B[49m\u001B[43m(\u001B[49m\u001B[38;5;241;43m24576\u001B[39;49m\u001B[38;5;241;43m/\u001B[39;49m\u001B[38;5;241;43m/\u001B[39;49m\u001B[38;5;241;43m24\u001B[39;49m\u001B[43m)\u001B[49m\u001B[43m,\u001B[49m\u001B[43m \u001B[49m\u001B[38;5;241;43m0\u001B[39;49m\u001B[43m:\u001B[49m\u001B[38;5;241;43m24576\u001B[39;49m\u001B[43m]\u001B[49m\u001B[43m,\u001B[49m\u001B[43m \u001B[49m\u001B[43mblock_shape\u001B[49m\u001B[43m)\u001B[49m\n",
      "Cell \u001B[1;32mIn[79], line 29\u001B[0m, in \u001B[0;36mimage_to_patches\u001B[1;34m(image, block_shape)\u001B[0m\n\u001B[0;32m     26\u001B[0m patch_size \u001B[38;5;241m=\u001B[39m patch_height \u001B[38;5;241m*\u001B[39m patch_width\n\u001B[0;32m     27\u001B[0m paddings \u001B[38;5;241m=\u001B[39m \u001B[38;5;241m2\u001B[39m\u001B[38;5;241m*\u001B[39m[[\u001B[38;5;241m0\u001B[39m, \u001B[38;5;241m0\u001B[39m]]\n\u001B[1;32m---> 29\u001B[0m patches \u001B[38;5;241m=\u001B[39m \u001B[43mtf\u001B[49m\u001B[38;5;241;43m.\u001B[39;49m\u001B[43mspace_to_batch\u001B[49m\u001B[43m(\u001B[49m\u001B[43mimage\u001B[49m\u001B[43m,\u001B[49m\u001B[43m \u001B[49m\u001B[43m[\u001B[49m\u001B[43mpatch_height\u001B[49m\u001B[43m,\u001B[49m\u001B[43m \u001B[49m\u001B[43mpatch_width\u001B[49m\u001B[43m]\u001B[49m\u001B[43m,\u001B[49m\u001B[43m \u001B[49m\u001B[43mpaddings\u001B[49m\u001B[43m)\u001B[49m\n\u001B[0;32m     30\u001B[0m patches \u001B[38;5;241m=\u001B[39m tf\u001B[38;5;241m.\u001B[39msplit(patches, patch_size, \u001B[38;5;241m0\u001B[39m)\n\u001B[0;32m     31\u001B[0m patches \u001B[38;5;241m=\u001B[39m tf\u001B[38;5;241m.\u001B[39mstack(patches, axis\u001B[38;5;241m=\u001B[39m\u001B[38;5;241m3\u001B[39m)\n",
      "File \u001B[1;32m~\\.conda\\envs\\frame-interpolation1\\lib\\site-packages\\tensorflow\\python\\util\\dispatch.py:206\u001B[0m, in \u001B[0;36madd_dispatch_support.<locals>.wrapper\u001B[1;34m(*args, **kwargs)\u001B[0m\n\u001B[0;32m    204\u001B[0m \u001B[38;5;250m\u001B[39m\u001B[38;5;124;03m\"\"\"Call target, and fall back on dispatchers if there is a TypeError.\"\"\"\u001B[39;00m\n\u001B[0;32m    205\u001B[0m \u001B[38;5;28;01mtry\u001B[39;00m:\n\u001B[1;32m--> 206\u001B[0m   \u001B[38;5;28;01mreturn\u001B[39;00m target(\u001B[38;5;241m*\u001B[39margs, \u001B[38;5;241m*\u001B[39m\u001B[38;5;241m*\u001B[39mkwargs)\n\u001B[0;32m    207\u001B[0m \u001B[38;5;28;01mexcept\u001B[39;00m (\u001B[38;5;167;01mTypeError\u001B[39;00m, \u001B[38;5;167;01mValueError\u001B[39;00m):\n\u001B[0;32m    208\u001B[0m   \u001B[38;5;66;03m# Note: convert_to_eager_tensor currently raises a ValueError, not a\u001B[39;00m\n\u001B[0;32m    209\u001B[0m   \u001B[38;5;66;03m# TypeError, when given unexpected types.  So we need to catch both.\u001B[39;00m\n\u001B[0;32m    210\u001B[0m   result \u001B[38;5;241m=\u001B[39m dispatch(wrapper, args, kwargs)\n",
      "File \u001B[1;32m~\\.conda\\envs\\frame-interpolation1\\lib\\site-packages\\tensorflow\\python\\ops\\array_ops.py:3990\u001B[0m, in \u001B[0;36mspace_to_batch_v2\u001B[1;34m(input, block_shape, paddings, name)\u001B[0m\n\u001B[0;32m   3987\u001B[0m \u001B[38;5;129m@tf_export\u001B[39m(\u001B[38;5;124m\"\u001B[39m\u001B[38;5;124mspace_to_batch\u001B[39m\u001B[38;5;124m\"\u001B[39m, \u001B[38;5;124m\"\u001B[39m\u001B[38;5;124mnn.space_to_batch\u001B[39m\u001B[38;5;124m\"\u001B[39m, v1\u001B[38;5;241m=\u001B[39m[])\n\u001B[0;32m   3988\u001B[0m \u001B[38;5;129m@dispatch\u001B[39m\u001B[38;5;241m.\u001B[39madd_dispatch_support\n\u001B[0;32m   3989\u001B[0m \u001B[38;5;28;01mdef\u001B[39;00m \u001B[38;5;21mspace_to_batch_v2\u001B[39m(\u001B[38;5;28minput\u001B[39m, block_shape, paddings, name\u001B[38;5;241m=\u001B[39m\u001B[38;5;28;01mNone\u001B[39;00m):  \u001B[38;5;66;03m# pylint: disable=redefined-builtin\u001B[39;00m\n\u001B[1;32m-> 3990\u001B[0m   \u001B[38;5;28;01mreturn\u001B[39;00m \u001B[43mspace_to_batch_nd\u001B[49m\u001B[43m(\u001B[49m\u001B[38;5;28;43minput\u001B[39;49m\u001B[43m,\u001B[49m\u001B[43m \u001B[49m\u001B[43mblock_shape\u001B[49m\u001B[43m,\u001B[49m\u001B[43m \u001B[49m\u001B[43mpaddings\u001B[49m\u001B[43m,\u001B[49m\u001B[43m \u001B[49m\u001B[43mname\u001B[49m\u001B[43m)\u001B[49m\n",
      "File \u001B[1;32m~\\.conda\\envs\\frame-interpolation1\\lib\\site-packages\\tensorflow\\python\\ops\\gen_array_ops.py:9802\u001B[0m, in \u001B[0;36mspace_to_batch_nd\u001B[1;34m(input, block_shape, paddings, name)\u001B[0m\n\u001B[0;32m   9800\u001B[0m   \u001B[38;5;28;01mpass\u001B[39;00m\n\u001B[0;32m   9801\u001B[0m \u001B[38;5;28;01mtry\u001B[39;00m:\n\u001B[1;32m-> 9802\u001B[0m   \u001B[38;5;28;01mreturn\u001B[39;00m \u001B[43mspace_to_batch_nd_eager_fallback\u001B[49m\u001B[43m(\u001B[49m\n\u001B[0;32m   9803\u001B[0m \u001B[43m      \u001B[49m\u001B[38;5;28;43minput\u001B[39;49m\u001B[43m,\u001B[49m\u001B[43m \u001B[49m\u001B[43mblock_shape\u001B[49m\u001B[43m,\u001B[49m\u001B[43m \u001B[49m\u001B[43mpaddings\u001B[49m\u001B[43m,\u001B[49m\u001B[43m \u001B[49m\u001B[43mname\u001B[49m\u001B[38;5;241;43m=\u001B[39;49m\u001B[43mname\u001B[49m\u001B[43m,\u001B[49m\u001B[43m \u001B[49m\u001B[43mctx\u001B[49m\u001B[38;5;241;43m=\u001B[39;49m\u001B[43m_ctx\u001B[49m\u001B[43m)\u001B[49m\n\u001B[0;32m   9804\u001B[0m \u001B[38;5;28;01mexcept\u001B[39;00m _core\u001B[38;5;241m.\u001B[39m_SymbolicException:\n\u001B[0;32m   9805\u001B[0m   \u001B[38;5;28;01mpass\u001B[39;00m  \u001B[38;5;66;03m# Add nodes to the TensorFlow graph.\u001B[39;00m\n",
      "File \u001B[1;32m~\\.conda\\envs\\frame-interpolation1\\lib\\site-packages\\tensorflow\\python\\ops\\gen_array_ops.py:9848\u001B[0m, in \u001B[0;36mspace_to_batch_nd_eager_fallback\u001B[1;34m(input, block_shape, paddings, name, ctx)\u001B[0m\n\u001B[0;32m   9845\u001B[0m _inputs_flat \u001B[38;5;241m=\u001B[39m [\u001B[38;5;28minput\u001B[39m, block_shape, paddings]\n\u001B[0;32m   9846\u001B[0m _attrs \u001B[38;5;241m=\u001B[39m (\u001B[38;5;124m\"\u001B[39m\u001B[38;5;124mT\u001B[39m\u001B[38;5;124m\"\u001B[39m, _attr_T, \u001B[38;5;124m\"\u001B[39m\u001B[38;5;124mTblock_shape\u001B[39m\u001B[38;5;124m\"\u001B[39m, _attr_Tblock_shape, \u001B[38;5;124m\"\u001B[39m\u001B[38;5;124mTpaddings\u001B[39m\u001B[38;5;124m\"\u001B[39m,\n\u001B[0;32m   9847\u001B[0m _attr_Tpaddings)\n\u001B[1;32m-> 9848\u001B[0m _result \u001B[38;5;241m=\u001B[39m \u001B[43m_execute\u001B[49m\u001B[38;5;241;43m.\u001B[39;49m\u001B[43mexecute\u001B[49m\u001B[43m(\u001B[49m\u001B[38;5;124;43mb\u001B[39;49m\u001B[38;5;124;43m\"\u001B[39;49m\u001B[38;5;124;43mSpaceToBatchND\u001B[39;49m\u001B[38;5;124;43m\"\u001B[39;49m\u001B[43m,\u001B[49m\u001B[43m \u001B[49m\u001B[38;5;241;43m1\u001B[39;49m\u001B[43m,\u001B[49m\u001B[43m \u001B[49m\u001B[43minputs\u001B[49m\u001B[38;5;241;43m=\u001B[39;49m\u001B[43m_inputs_flat\u001B[49m\u001B[43m,\u001B[49m\n\u001B[0;32m   9849\u001B[0m \u001B[43m                           \u001B[49m\u001B[43mattrs\u001B[49m\u001B[38;5;241;43m=\u001B[39;49m\u001B[43m_attrs\u001B[49m\u001B[43m,\u001B[49m\u001B[43m \u001B[49m\u001B[43mctx\u001B[49m\u001B[38;5;241;43m=\u001B[39;49m\u001B[43mctx\u001B[49m\u001B[43m,\u001B[49m\u001B[43m \u001B[49m\u001B[43mname\u001B[49m\u001B[38;5;241;43m=\u001B[39;49m\u001B[43mname\u001B[49m\u001B[43m)\u001B[49m\n\u001B[0;32m   9850\u001B[0m \u001B[38;5;28;01mif\u001B[39;00m _execute\u001B[38;5;241m.\u001B[39mmust_record_gradient():\n\u001B[0;32m   9851\u001B[0m   _execute\u001B[38;5;241m.\u001B[39mrecord_gradient(\n\u001B[0;32m   9852\u001B[0m       \u001B[38;5;124m\"\u001B[39m\u001B[38;5;124mSpaceToBatchND\u001B[39m\u001B[38;5;124m\"\u001B[39m, _inputs_flat, _attrs, _result)\n",
      "File \u001B[1;32m~\\.conda\\envs\\frame-interpolation1\\lib\\site-packages\\tensorflow\\python\\eager\\execute.py:59\u001B[0m, in \u001B[0;36mquick_execute\u001B[1;34m(op_name, num_outputs, inputs, attrs, ctx, name)\u001B[0m\n\u001B[0;32m     57\u001B[0m \u001B[38;5;28;01mtry\u001B[39;00m:\n\u001B[0;32m     58\u001B[0m   ctx\u001B[38;5;241m.\u001B[39mensure_initialized()\n\u001B[1;32m---> 59\u001B[0m   tensors \u001B[38;5;241m=\u001B[39m \u001B[43mpywrap_tfe\u001B[49m\u001B[38;5;241;43m.\u001B[39;49m\u001B[43mTFE_Py_Execute\u001B[49m\u001B[43m(\u001B[49m\u001B[43mctx\u001B[49m\u001B[38;5;241;43m.\u001B[39;49m\u001B[43m_handle\u001B[49m\u001B[43m,\u001B[49m\u001B[43m \u001B[49m\u001B[43mdevice_name\u001B[49m\u001B[43m,\u001B[49m\u001B[43m \u001B[49m\u001B[43mop_name\u001B[49m\u001B[43m,\u001B[49m\n\u001B[0;32m     60\u001B[0m \u001B[43m                                      \u001B[49m\u001B[43minputs\u001B[49m\u001B[43m,\u001B[49m\u001B[43m \u001B[49m\u001B[43mattrs\u001B[49m\u001B[43m,\u001B[49m\u001B[43m \u001B[49m\u001B[43mnum_outputs\u001B[49m\u001B[43m)\u001B[49m\n\u001B[0;32m     61\u001B[0m \u001B[38;5;28;01mexcept\u001B[39;00m core\u001B[38;5;241m.\u001B[39m_NotOkStatusException \u001B[38;5;28;01mas\u001B[39;00m e:\n\u001B[0;32m     62\u001B[0m   \u001B[38;5;28;01mif\u001B[39;00m name \u001B[38;5;129;01mis\u001B[39;00m \u001B[38;5;129;01mnot\u001B[39;00m \u001B[38;5;28;01mNone\u001B[39;00m:\n",
      "\u001B[1;31mInvalidArgumentError\u001B[0m: padded_shape[1]=3 is not divisible by block_shape[1]=24 [Op:SpaceToBatchND]"
     ]
    }
   ],
   "source": [
    "x0_patches = image_to_patches(x0[0:(24576//24), 0:24576], block_shape)"
   ],
   "metadata": {
    "collapsed": false
   }
  },
  {
   "cell_type": "code",
   "execution_count": 85,
   "outputs": [
    {
     "ename": "AssertionError",
     "evalue": "block_height=1024 should evenly divide height=27968.",
     "output_type": "error",
     "traceback": [
      "\u001B[1;31m---------------------------------------------------------------------------\u001B[0m",
      "\u001B[1;31mAssertionError\u001B[0m                            Traceback (most recent call last)",
      "Cell \u001B[1;32mIn[85], line 1\u001B[0m\n\u001B[1;32m----> 1\u001B[0m x0_patches \u001B[38;5;241m=\u001B[39m \u001B[43mimage_to_patches\u001B[49m\u001B[43m(\u001B[49m\u001B[43mx0\u001B[49m\u001B[43m[\u001B[49m\u001B[38;5;241;43m0\u001B[39;49m\u001B[43m:\u001B[49m\u001B[43m(\u001B[49m\u001B[38;5;241;43m27968\u001B[39;49m\u001B[38;5;241;43m/\u001B[39;49m\u001B[38;5;241;43m/\u001B[39;49m\u001B[38;5;241;43m3\u001B[39;49m\u001B[38;5;241;43m*\u001B[39;49m\u001B[38;5;241;43m1024\u001B[39;49m\u001B[43m)\u001B[49m\u001B[38;5;241;43m*\u001B[39;49m\u001B[38;5;241;43m3\u001B[39;49m\u001B[38;5;241;43m*\u001B[39;49m\u001B[38;5;241;43m1024\u001B[39;49m\u001B[43m,\u001B[49m\u001B[43m \u001B[49m\u001B[38;5;241;43m0\u001B[39;49m\u001B[43m:\u001B[49m\u001B[43m(\u001B[49m\u001B[38;5;241;43m27968\u001B[39;49m\u001B[38;5;241;43m/\u001B[39;49m\u001B[38;5;241;43m/\u001B[39;49m\u001B[38;5;241;43m3\u001B[39;49m\u001B[38;5;241;43m*\u001B[39;49m\u001B[38;5;241;43m1024\u001B[39;49m\u001B[43m)\u001B[49m\u001B[38;5;241;43m*\u001B[39;49m\u001B[38;5;241;43m3\u001B[39;49m\u001B[38;5;241;43m*\u001B[39;49m\u001B[38;5;241;43m1024\u001B[39;49m\u001B[43m]\u001B[49m\u001B[43m,\u001B[49m\u001B[43m \u001B[49m\u001B[43mblock_shape\u001B[49m\u001B[43m)\u001B[49m\n\u001B[0;32m      2\u001B[0m \u001B[38;5;66;03m#x1_patches = image_to_patches(x1, block_shape)\u001B[39;00m\n",
      "Cell \u001B[1;32mIn[79], line 19\u001B[0m, in \u001B[0;36mimage_to_patches\u001B[1;34m(image, block_shape)\u001B[0m\n\u001B[0;32m     16\u001B[0m height, width, channel \u001B[38;5;241m=\u001B[39m image\u001B[38;5;241m.\u001B[39mshape[\u001B[38;5;241m-\u001B[39m\u001B[38;5;241m3\u001B[39m:]\n\u001B[0;32m     17\u001B[0m patch_height, patch_width \u001B[38;5;241m=\u001B[39m height\u001B[38;5;241m/\u001B[39m\u001B[38;5;241m/\u001B[39mblock_height, width\u001B[38;5;241m/\u001B[39m\u001B[38;5;241m/\u001B[39mblock_width\n\u001B[1;32m---> 19\u001B[0m \u001B[38;5;28;01massert\u001B[39;00m height \u001B[38;5;241m==\u001B[39m (\n\u001B[0;32m     20\u001B[0m     patch_height \u001B[38;5;241m*\u001B[39m block_height\n\u001B[0;32m     21\u001B[0m ), \u001B[38;5;124m'\u001B[39m\u001B[38;5;124mblock_height=\u001B[39m\u001B[38;5;132;01m%d\u001B[39;00m\u001B[38;5;124m should evenly divide height=\u001B[39m\u001B[38;5;132;01m%d\u001B[39;00m\u001B[38;5;124m.\u001B[39m\u001B[38;5;124m'\u001B[39m\u001B[38;5;241m%\u001B[39m(block_height, height)\n\u001B[0;32m     22\u001B[0m \u001B[38;5;28;01massert\u001B[39;00m width \u001B[38;5;241m==\u001B[39m (\n\u001B[0;32m     23\u001B[0m     patch_width \u001B[38;5;241m*\u001B[39m block_width\n\u001B[0;32m     24\u001B[0m ), \u001B[38;5;124m'\u001B[39m\u001B[38;5;124mblock_width=\u001B[39m\u001B[38;5;132;01m%d\u001B[39;00m\u001B[38;5;124m should evenly divide width=\u001B[39m\u001B[38;5;132;01m%d\u001B[39;00m\u001B[38;5;124m.\u001B[39m\u001B[38;5;124m'\u001B[39m\u001B[38;5;241m%\u001B[39m(block_width, width)\n\u001B[0;32m     26\u001B[0m patch_size \u001B[38;5;241m=\u001B[39m patch_height \u001B[38;5;241m*\u001B[39m patch_width\n",
      "\u001B[1;31mAssertionError\u001B[0m: block_height=1024 should evenly divide height=27968."
     ]
    }
   ],
   "source": [
    "x0_patches = image_to_patches(x0[0:(27968//3*1024)*3*1024, 0:(27968//3*1024)*3*1024], block_shape)\n",
    "#x1_patches = image_to_patches(x1, block_shape)"
   ],
   "metadata": {
    "collapsed": false
   }
  },
  {
   "cell_type": "code",
   "execution_count": null,
   "outputs": [],
   "source": [
    "x0_patches = image_to_patches(x0, block_shape)\n",
    "x1_patches = image_to_patches(x1, block_shape)\n",
    "dt = 0.5\n",
    "# Run the interpolator on each patch pair.\n",
    "output_patches = []\n",
    "for image_0, image_1 in zip(x0_patches, x1_patches):\n",
    "    mid_patch = it.interpolate(image_0[np.newaxis, ...],\n",
    "                                 image_1[np.newaxis, ...], dt)\n",
    "    output_patches.append(mid_patch)\n",
    "\n",
    "# Reconstruct interpolated image by stitching interpolated patches.\n",
    "output_patches = np.concatenate(output_patches, axis=0)\n",
    "output_im = patches_to_image(output_patches, self._block_shape)"
   ],
   "metadata": {
    "collapsed": false
   }
  }
 ],
 "metadata": {
  "kernelspec": {
   "display_name": "Python 3",
   "language": "python",
   "name": "python3"
  },
  "language_info": {
   "codemirror_mode": {
    "name": "ipython",
    "version": 2
   },
   "file_extension": ".py",
   "mimetype": "text/x-python",
   "name": "python",
   "nbconvert_exporter": "python",
   "pygments_lexer": "ipython2",
   "version": "2.7.6"
  }
 },
 "nbformat": 4,
 "nbformat_minor": 0
}
