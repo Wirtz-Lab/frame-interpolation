{
 "cells": [
  {
   "cell_type": "code",
   "execution_count": null,
   "outputs": [],
   "source": [
    "\n",
    "\n",
    "\n",
    "tri_testlist = os.path.join(dst, 'sequences.txt')\n",
    "file = open(tri_testlist, 'w')\n",
    "for fol in tqdm(fols):\n",
    "    ims = [_ for _ in os.listdir(os.path.join(*[src,fol,'original_frames'])) if _.endswith(('.png','.jpg','tif'))]\n",
    "    dstroi = os.path.join(dstseq,fol)\n",
    "    if not os.path.exists(dstroi): os.mkdir(dstroi)\n",
    "    for idx,triplet in enumerate(zip(ims[::3],ims[1::3],ims[2::3])):\n",
    "        zidx = str(idx).zfill(3)\n",
    "        file.write(fol + '/' + zidx + \"\\n\")\n",
    "        dsttri = os.path.join(dstroi,zidx)\n",
    "        if not os.path.exists(dsttri): os.mkdir(dsttri)\n",
    "        for idxtri,im in enumerate(triplet):\n",
    "            imsrc = os.path.join(*[src,fol,imormsk,im])\n",
    "            imdst = os.path.join(dsttri,'im'+str(idxtri+1)+'.png')\n",
    "            imobj = Image.open(imsrc)\n",
    "            if imormsk == 'original_frames': imobj = Image.merge('RGB', (imobj, imobj, imobj))\n",
    "            imobj.save(imdst)\n",
    "file.close()\n"
   ],
   "metadata": {
    "collapsed": false
   }
  },
  {
   "cell_type": "code",
   "execution_count": 1,
   "outputs": [],
   "source": [
    "import os\n",
    "from PIL import Image\n",
    "from tqdm import tqdm"
   ],
   "metadata": {
    "collapsed": false
   }
  },
  {
   "cell_type": "code",
   "execution_count": 2,
   "outputs": [],
   "source": [
    "src = r'\\\\shelter\\Kyu\\motility_interpolation\\filmtest'\n",
    "dst = r'\\\\shelter\\Kyu\\motility_interpolation\\filmtest_train_skip3'\n",
    "imormsk = 'original_frames'"
   ],
   "metadata": {
    "collapsed": false
   }
  },
  {
   "cell_type": "code",
   "execution_count": 3,
   "outputs": [],
   "source": [
    "if not os.path.exists(dst): os.mkdir(dst)\n",
    "dstseq = os.path.join(dst,'sequences')\n",
    "if not os.path.exists(dstseq): os.mkdir(dstseq)\n",
    "fols = [_ for _ in os.listdir(src) if os.path.isdir(os.path.join(src, _))]"
   ],
   "metadata": {
    "collapsed": false
   }
  },
  {
   "cell_type": "code",
   "execution_count": 4,
   "outputs": [
    {
     "data": {
      "text/plain": "['t001xy001.png',\n 't002xy001.png',\n 't003xy001.png',\n 't004xy001.png',\n 't005xy001.png',\n 't006xy001.png',\n 't007xy001.png',\n 't008xy001.png',\n 't009xy001.png',\n 't010xy001.png',\n 't011xy001.png',\n 't012xy001.png',\n 't013xy001.png',\n 't014xy001.png',\n 't015xy001.png',\n 't016xy001.png',\n 't017xy001.png',\n 't018xy001.png',\n 't019xy001.png',\n 't020xy001.png',\n 't021xy001.png',\n 't022xy001.png',\n 't023xy001.png',\n 't024xy001.png',\n 't025xy001.png',\n 't026xy001.png',\n 't027xy001.png',\n 't028xy001.png',\n 't029xy001.png',\n 't030xy001.png',\n 't031xy001.png',\n 't032xy001.png',\n 't033xy001.png',\n 't034xy001.png',\n 't035xy001.png',\n 't036xy001.png',\n 't037xy001.png',\n 't038xy001.png',\n 't039xy001.png',\n 't040xy001.png',\n 't041xy001.png',\n 't042xy001.png',\n 't043xy001.png',\n 't044xy001.png',\n 't045xy001.png',\n 't046xy001.png',\n 't047xy001.png',\n 't048xy001.png',\n 't049xy001.png',\n 't050xy001.png',\n 't051xy001.png',\n 't052xy001.png',\n 't053xy001.png',\n 't054xy001.png',\n 't055xy001.png',\n 't056xy001.png',\n 't057xy001.png',\n 't058xy001.png',\n 't059xy001.png',\n 't060xy001.png',\n 't061xy001.png',\n 't062xy001.png',\n 't063xy001.png',\n 't064xy001.png',\n 't065xy001.png',\n 't066xy001.png',\n 't067xy001.png',\n 't068xy001.png',\n 't069xy001.png',\n 't070xy001.png',\n 't071xy001.png',\n 't072xy001.png',\n 't073xy001.png',\n 't074xy001.png',\n 't075xy001.png',\n 't076xy001.png',\n 't077xy001.png',\n 't078xy001.png',\n 't079xy001.png',\n 't080xy001.png',\n 't081xy001.png',\n 't082xy001.png',\n 't083xy001.png',\n 't084xy001.png',\n 't085xy001.png',\n 't086xy001.png',\n 't087xy001.png',\n 't088xy001.png',\n 't089xy001.png',\n 't090xy001.png',\n 't091xy001.png',\n 't092xy001.png',\n 't093xy001.png',\n 't094xy001.png',\n 't095xy001.png',\n 't096xy001.png',\n 't097xy001.png',\n 't098xy001.png',\n 't099xy001.png',\n 't100xy001.png',\n 't101xy001.png',\n 't102xy001.png',\n 't103xy001.png',\n 't104xy001.png',\n 't105xy001.png',\n 't106xy001.png',\n 't107xy001.png',\n 't108xy001.png',\n 't109xy001.png',\n 't110xy001.png',\n 't111xy001.png',\n 't112xy001.png',\n 't113xy001.png',\n 't114xy001.png',\n 't115xy001.png',\n 't116xy001.png',\n 't117xy001.png',\n 't118xy001.png',\n 't119xy001.png',\n 't120xy001.png',\n 't121xy001.png']"
     },
     "execution_count": 4,
     "metadata": {},
     "output_type": "execute_result"
    }
   ],
   "source": [
    "fol=fols[0]\n",
    "ims = [_ for _ in os.listdir(os.path.join(*[src,fol,'original_frames'])) if _.endswith(('.png','.jpg','tif'))]\n",
    "dstroi = os.path.join(dstseq,fol)\n",
    "if not os.path.exists(dstroi): os.mkdir(dstroi)"
   ],
   "metadata": {
    "collapsed": false
   }
  },
  {
   "cell_type": "code",
   "execution_count": 5,
   "outputs": [
    {
     "name": "stdout",
     "output_type": "stream",
     "text": [
      "('t001xy001.png', 't002xy001.png', 't003xy001.png')\n",
      "('t004xy001.png', 't005xy001.png', 't006xy001.png')\n",
      "('t007xy001.png', 't008xy001.png', 't009xy001.png')\n",
      "('t010xy001.png', 't011xy001.png', 't012xy001.png')\n",
      "('t013xy001.png', 't014xy001.png', 't015xy001.png')\n",
      "('t016xy001.png', 't017xy001.png', 't018xy001.png')\n",
      "('t019xy001.png', 't020xy001.png', 't021xy001.png')\n",
      "('t022xy001.png', 't023xy001.png', 't024xy001.png')\n",
      "('t025xy001.png', 't026xy001.png', 't027xy001.png')\n",
      "('t028xy001.png', 't029xy001.png', 't030xy001.png')\n",
      "('t031xy001.png', 't032xy001.png', 't033xy001.png')\n",
      "('t034xy001.png', 't035xy001.png', 't036xy001.png')\n",
      "('t037xy001.png', 't038xy001.png', 't039xy001.png')\n",
      "('t040xy001.png', 't041xy001.png', 't042xy001.png')\n",
      "('t043xy001.png', 't044xy001.png', 't045xy001.png')\n",
      "('t046xy001.png', 't047xy001.png', 't048xy001.png')\n",
      "('t049xy001.png', 't050xy001.png', 't051xy001.png')\n",
      "('t052xy001.png', 't053xy001.png', 't054xy001.png')\n",
      "('t055xy001.png', 't056xy001.png', 't057xy001.png')\n",
      "('t058xy001.png', 't059xy001.png', 't060xy001.png')\n",
      "('t061xy001.png', 't062xy001.png', 't063xy001.png')\n",
      "('t064xy001.png', 't065xy001.png', 't066xy001.png')\n",
      "('t067xy001.png', 't068xy001.png', 't069xy001.png')\n",
      "('t070xy001.png', 't071xy001.png', 't072xy001.png')\n",
      "('t073xy001.png', 't074xy001.png', 't075xy001.png')\n",
      "('t076xy001.png', 't077xy001.png', 't078xy001.png')\n",
      "('t079xy001.png', 't080xy001.png', 't081xy001.png')\n",
      "('t082xy001.png', 't083xy001.png', 't084xy001.png')\n",
      "('t085xy001.png', 't086xy001.png', 't087xy001.png')\n",
      "('t088xy001.png', 't089xy001.png', 't090xy001.png')\n",
      "('t091xy001.png', 't092xy001.png', 't093xy001.png')\n",
      "('t094xy001.png', 't095xy001.png', 't096xy001.png')\n",
      "('t097xy001.png', 't098xy001.png', 't099xy001.png')\n",
      "('t100xy001.png', 't101xy001.png', 't102xy001.png')\n",
      "('t103xy001.png', 't104xy001.png', 't105xy001.png')\n",
      "('t106xy001.png', 't107xy001.png', 't108xy001.png')\n",
      "('t109xy001.png', 't110xy001.png', 't111xy001.png')\n",
      "('t112xy001.png', 't113xy001.png', 't114xy001.png')\n",
      "('t115xy001.png', 't116xy001.png', 't117xy001.png')\n",
      "('t118xy001.png', 't119xy001.png', 't120xy001.png')\n"
     ]
    }
   ],
   "source": [
    "skip=1\n",
    "for idx,triplet in enumerate(zip(ims[::3],ims[1::3],ims[2::3])):\n",
    "    print(triplet)"
   ],
   "metadata": {
    "collapsed": false
   }
  },
  {
   "cell_type": "code",
   "execution_count": 6,
   "outputs": [
    {
     "name": "stdout",
     "output_type": "stream",
     "text": [
      "('t001xy001.png', 't003xy001.png', 't005xy001.png')\n",
      "('t006xy001.png', 't008xy001.png', 't010xy001.png')\n",
      "('t011xy001.png', 't013xy001.png', 't015xy001.png')\n",
      "('t016xy001.png', 't018xy001.png', 't020xy001.png')\n",
      "('t021xy001.png', 't023xy001.png', 't025xy001.png')\n",
      "('t026xy001.png', 't028xy001.png', 't030xy001.png')\n",
      "('t031xy001.png', 't033xy001.png', 't035xy001.png')\n",
      "('t036xy001.png', 't038xy001.png', 't040xy001.png')\n",
      "('t041xy001.png', 't043xy001.png', 't045xy001.png')\n",
      "('t046xy001.png', 't048xy001.png', 't050xy001.png')\n",
      "('t051xy001.png', 't053xy001.png', 't055xy001.png')\n",
      "('t056xy001.png', 't058xy001.png', 't060xy001.png')\n",
      "('t061xy001.png', 't063xy001.png', 't065xy001.png')\n",
      "('t066xy001.png', 't068xy001.png', 't070xy001.png')\n",
      "('t071xy001.png', 't073xy001.png', 't075xy001.png')\n",
      "('t076xy001.png', 't078xy001.png', 't080xy001.png')\n",
      "('t081xy001.png', 't083xy001.png', 't085xy001.png')\n",
      "('t086xy001.png', 't088xy001.png', 't090xy001.png')\n",
      "('t091xy001.png', 't093xy001.png', 't095xy001.png')\n",
      "('t096xy001.png', 't098xy001.png', 't100xy001.png')\n",
      "('t101xy001.png', 't103xy001.png', 't105xy001.png')\n",
      "('t106xy001.png', 't108xy001.png', 't110xy001.png')\n",
      "('t111xy001.png', 't113xy001.png', 't115xy001.png')\n",
      "('t116xy001.png', 't118xy001.png', 't120xy001.png')\n"
     ]
    }
   ],
   "source": [
    "skip=3\n",
    "for idx,triplet in enumerate(zip(ims[::5],ims[2::5],ims[4::5])):\n",
    "    print(triplet)"
   ],
   "metadata": {
    "collapsed": false
   }
  },
  {
   "cell_type": "code",
   "execution_count": 7,
   "outputs": [
    {
     "name": "stdout",
     "output_type": "stream",
     "text": [
      "('t001xy001.png', 't004xy001.png', 't007xy001.png')\n",
      "('t008xy001.png', 't011xy001.png', 't014xy001.png')\n",
      "('t015xy001.png', 't018xy001.png', 't021xy001.png')\n",
      "('t022xy001.png', 't025xy001.png', 't028xy001.png')\n",
      "('t029xy001.png', 't032xy001.png', 't035xy001.png')\n",
      "('t036xy001.png', 't039xy001.png', 't042xy001.png')\n",
      "('t043xy001.png', 't046xy001.png', 't049xy001.png')\n",
      "('t050xy001.png', 't053xy001.png', 't056xy001.png')\n",
      "('t057xy001.png', 't060xy001.png', 't063xy001.png')\n",
      "('t064xy001.png', 't067xy001.png', 't070xy001.png')\n",
      "('t071xy001.png', 't074xy001.png', 't077xy001.png')\n",
      "('t078xy001.png', 't081xy001.png', 't084xy001.png')\n",
      "('t085xy001.png', 't088xy001.png', 't091xy001.png')\n",
      "('t092xy001.png', 't095xy001.png', 't098xy001.png')\n",
      "('t099xy001.png', 't102xy001.png', 't105xy001.png')\n",
      "('t106xy001.png', 't109xy001.png', 't112xy001.png')\n",
      "('t113xy001.png', 't116xy001.png', 't119xy001.png')\n"
     ]
    }
   ],
   "source": [
    "skip=5\n",
    "for idx,triplet in enumerate(zip(ims[::7],ims[3::7],ims[6::7])):\n",
    "    print(triplet)"
   ],
   "metadata": {
    "collapsed": false
   }
  },
  {
   "cell_type": "code",
   "execution_count": 15,
   "outputs": [
    {
     "name": "stdout",
     "output_type": "stream",
     "text": [
      "('t001xy001.png', 't005xy001.png', 't009xy001.png')\n",
      "('t010xy001.png', 't014xy001.png', 't018xy001.png')\n",
      "('t019xy001.png', 't023xy001.png', 't027xy001.png')\n",
      "('t028xy001.png', 't032xy001.png', 't036xy001.png')\n",
      "('t037xy001.png', 't041xy001.png', 't045xy001.png')\n",
      "('t046xy001.png', 't050xy001.png', 't054xy001.png')\n",
      "('t055xy001.png', 't059xy001.png', 't063xy001.png')\n",
      "('t064xy001.png', 't068xy001.png', 't072xy001.png')\n",
      "('t073xy001.png', 't077xy001.png', 't081xy001.png')\n",
      "('t082xy001.png', 't086xy001.png', 't090xy001.png')\n",
      "('t091xy001.png', 't095xy001.png', 't099xy001.png')\n",
      "('t100xy001.png', 't104xy001.png', 't108xy001.png')\n",
      "('t109xy001.png', 't113xy001.png', 't117xy001.png')\n"
     ]
    }
   ],
   "source": [
    "skip=7\n",
    "for idx,triplet in enumerate(zip(ims[::skip+2],ims[int((skip+1)/2)::skip+2],ims[skip+1::skip+2])):\n",
    "    print(triplet)"
   ],
   "metadata": {
    "collapsed": false
   }
  },
  {
   "cell_type": "code",
   "execution_count": null,
   "outputs": [],
   "source": [],
   "metadata": {
    "collapsed": false
   }
  }
 ],
 "metadata": {
  "kernelspec": {
   "display_name": "Python 3",
   "language": "python",
   "name": "python3"
  },
  "language_info": {
   "codemirror_mode": {
    "name": "ipython",
    "version": 2
   },
   "file_extension": ".py",
   "mimetype": "text/x-python",
   "name": "python",
   "nbconvert_exporter": "python",
   "pygments_lexer": "ipython2",
   "version": "2.7.6"
  }
 },
 "nbformat": 4,
 "nbformat_minor": 0
}
