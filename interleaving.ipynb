{
 "cells": [
  {
   "cell_type": "code",
   "execution_count": 1,
   "metadata": {
    "collapsed": true
   },
   "outputs": [],
   "source": [
    "import shutil\n",
    "import os\n",
    "from natsort import natsorted"
   ]
  },
  {
   "cell_type": "code",
   "execution_count": 6,
   "outputs": [
    {
     "data": {
      "text/plain": "['t001_well01_stitch1.png',\n 't005_well01_stitch1.png',\n 't009_well01_stitch1.png',\n 't013_well01_stitch1.png',\n 't017_well01_stitch1.png',\n 't021_well01_stitch1.png',\n 't025_well01_stitch1.png',\n 't029_well01_stitch1.png',\n 't033_well01_stitch1.png',\n 't037_well01_stitch1.png',\n 't041_well01_stitch1.png',\n 't045_well01_stitch1.png',\n 't049_well01_stitch1.png',\n 't053_well01_stitch1.png',\n 't057_well01_stitch1.png',\n 't061_well01_stitch1.png',\n 't065_well01_stitch1.png',\n 't069_well01_stitch1.png',\n 't073_well01_stitch1.png',\n 't077_well01_stitch1.png',\n 't081_well01_stitch1.png',\n 't085_well01_stitch1.png',\n 't089_well01_stitch1.png',\n 't093_well01_stitch1.png',\n 't097_well01_stitch1.png',\n 't101_well01_stitch1.png',\n 't105_well01_stitch1.png',\n 't109_well01_stitch1.png',\n 't113_well01_stitch1.png',\n 't117_well01_stitch1.png']"
     },
     "execution_count": 6,
     "metadata": {},
     "output_type": "execute_result"
    }
   ],
   "source": [
    "src = r'C:\\Users\\labadmin\\Documents\\aimfor11\\original_frames'\n",
    "dst = r'C:\\Users\\labadmin\\Documents\\aimfor11\\interpolated\\skip3\\original_frames'\n",
    "if not os.path.exists(dst): os.mkdir(dst)\n",
    "ims = [_ for _ in os.listdir(src) if _.endswith('png')]\n",
    "ims = natsorted(ims)\n",
    "ims = ims[::4]\n",
    "ims"
   ],
   "metadata": {
    "collapsed": false
   }
  },
  {
   "cell_type": "code",
   "execution_count": 7,
   "outputs": [],
   "source": [
    "for im in ims:\n",
    "    shutil.copy(os.path.join(src,im), os.path.join(dst,im))"
   ],
   "metadata": {
    "collapsed": false
   }
  },
  {
   "cell_type": "code",
   "execution_count": null,
   "outputs": [],
   "source": [],
   "metadata": {
    "collapsed": false
   }
  }
 ],
 "metadata": {
  "kernelspec": {
   "display_name": "Python 3",
   "language": "python",
   "name": "python3"
  },
  "language_info": {
   "codemirror_mode": {
    "name": "ipython",
    "version": 2
   },
   "file_extension": ".py",
   "mimetype": "text/x-python",
   "name": "python",
   "nbconvert_exporter": "python",
   "pygments_lexer": "ipython2",
   "version": "2.7.6"
  }
 },
 "nbformat": 4,
 "nbformat_minor": 0
}
