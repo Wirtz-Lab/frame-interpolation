{
 "cells": [
  {
   "cell_type": "code",
   "execution_count": 1,
   "metadata": {
    "collapsed": true,
    "ExecuteTime": {
     "end_time": "2023-10-30T19:19:21.667053200Z",
     "start_time": "2023-10-30T19:18:59.352471600Z"
    }
   },
   "outputs": [
    {
     "name": "stderr",
     "output_type": "stream",
     "text": [
      "ERROR: pip's dependency resolver does not currently take into account all the packages that are installed. This behaviour is the source of the following dependency conflicts.\n",
      "apache-beam 2.34.0 requires dill<0.3.2,>=0.3.1.1, but you have dill 0.3.7 which is incompatible.\n"
     ]
    }
   ],
   "source": [
    "# !pip install -qq intern cloud-volume"
   ]
  },
  {
   "cell_type": "code",
   "execution_count": 3,
   "outputs": [
    {
     "name": "stdout",
     "output_type": "stream",
     "text": [
      "Requirement already satisfied: intern in c:\\users\\saurabh\\.conda\\envs\\frame-interpolation\\lib\\site-packages (1.4.1)\n",
      "Requirement already satisfied: numpy in c:\\users\\saurabh\\.conda\\envs\\frame-interpolation\\lib\\site-packages (from intern) (1.20.3)\n",
      "Requirement already satisfied: requests>=2.11.1 in c:\\users\\saurabh\\.conda\\envs\\frame-interpolation\\lib\\site-packages (from intern) (2.31.0)\n",
      "Requirement already satisfied: blosc>=1.4.4 in c:\\users\\saurabh\\.conda\\envs\\frame-interpolation\\lib\\site-packages (from intern) (1.11.1)\n",
      "Requirement already satisfied: six in c:\\users\\saurabh\\.conda\\envs\\frame-interpolation\\lib\\site-packages (from intern) (1.16.0)\n",
      "Requirement already satisfied: nose2 in c:\\users\\saurabh\\.conda\\envs\\frame-interpolation\\lib\\site-packages (from intern) (0.14.0)\n",
      "Requirement already satisfied: joblib in c:\\users\\saurabh\\.conda\\envs\\frame-interpolation\\lib\\site-packages (from intern) (1.3.2)\n",
      "Requirement already satisfied: psutil in c:\\users\\saurabh\\.conda\\envs\\frame-interpolation\\lib\\site-packages (from intern) (5.9.6)\n",
      "Requirement already satisfied: pillow in c:\\users\\saurabh\\.conda\\envs\\frame-interpolation\\lib\\site-packages (from intern) (10.0.1)\n",
      "Requirement already satisfied: tqdm in c:\\users\\saurabh\\.conda\\envs\\frame-interpolation\\lib\\site-packages (from intern) (4.64.1)\n",
      "Requirement already satisfied: charset-normalizer<4,>=2 in c:\\users\\saurabh\\.conda\\envs\\frame-interpolation\\lib\\site-packages (from requests>=2.11.1->intern) (3.3.1)\n",
      "Requirement already satisfied: idna<4,>=2.5 in c:\\users\\saurabh\\.conda\\envs\\frame-interpolation\\lib\\site-packages (from requests>=2.11.1->intern) (3.4)\n",
      "Requirement already satisfied: urllib3<3,>=1.21.1 in c:\\users\\saurabh\\.conda\\envs\\frame-interpolation\\lib\\site-packages (from requests>=2.11.1->intern) (1.26.18)\n",
      "Requirement already satisfied: certifi>=2017.4.17 in c:\\users\\saurabh\\.conda\\envs\\frame-interpolation\\lib\\site-packages (from requests>=2.11.1->intern) (2023.7.22)\n",
      "Requirement already satisfied: colorama in c:\\users\\saurabh\\.conda\\envs\\frame-interpolation\\lib\\site-packages (from tqdm->intern) (0.4.6)\n"
     ]
    }
   ],
   "source": [
    "# !pip install intern"
   ],
   "metadata": {
    "collapsed": false,
    "ExecuteTime": {
     "end_time": "2023-10-30T19:20:26.453559Z",
     "start_time": "2023-10-30T19:20:22.970736700Z"
    }
   }
  },
  {
   "cell_type": "code",
   "execution_count": 1,
   "outputs": [
    {
     "name": "stderr",
     "output_type": "stream",
     "text": [
      "C:\\Users\\Saurabh\\.conda\\envs\\frame-interpolation\\lib\\site-packages\\python_jsonschema_objects\\__init__.py:113: UserWarning: Schema id not specified. Defaulting to 'self'\n",
      "  warnings.warn(\"Schema id not specified. Defaulting to 'self'\")\n",
      "C:\\Users\\Saurabh\\.conda\\envs\\frame-interpolation\\lib\\site-packages\\tqdm\\auto.py:22: TqdmWarning: IProgress not found. Please update jupyter and ipywidgets. See https://ipywidgets.readthedocs.io/en/stable/user_install.html\n",
      "  from .autonotebook import tqdm as notebook_tqdm\n"
     ]
    }
   ],
   "source": [
    "from cloudvolume import CloudVolume"
   ],
   "metadata": {
    "collapsed": false,
    "ExecuteTime": {
     "end_time": "2023-10-30T19:21:55.323504400Z",
     "start_time": "2023-10-30T19:21:54.282673Z"
    }
   }
  },
  {
   "cell_type": "code",
   "execution_count": 16,
   "outputs": [],
   "source": [
    "from matplotlib import pyplot as plt\n",
    "import numpy as np"
   ],
   "metadata": {
    "collapsed": false,
    "ExecuteTime": {
     "end_time": "2023-10-30T19:24:34.018253100Z",
     "start_time": "2023-10-30T19:24:34.009166400Z"
    }
   }
  },
  {
   "cell_type": "code",
   "execution_count": 3,
   "outputs": [],
   "source": [
    "em_vol = CloudVolume(\"s3://bossdb-open-data/iarpa_microns/minnie/minnie65/em\", use_https=True)\n",
    "seg_vol = CloudVolume(\"s3://bossdb-open-data/iarpa_microns/minnie/minnie65/seg\", use_https=True)"
   ],
   "metadata": {
    "collapsed": false,
    "ExecuteTime": {
     "end_time": "2023-10-30T19:22:07.070997100Z",
     "start_time": "2023-10-30T19:22:05.551870300Z"
    }
   }
  },
  {
   "cell_type": "code",
   "execution_count": 4,
   "outputs": [
    {
     "data": {
      "text/plain": "Vec(212992,180224,13088, dtype=int32)"
     },
     "execution_count": 4,
     "metadata": {},
     "output_type": "execute_result"
    }
   ],
   "source": [
    "em_vol.volume_size"
   ],
   "metadata": {
    "collapsed": false,
    "ExecuteTime": {
     "end_time": "2023-10-30T19:22:07.080826900Z",
     "start_time": "2023-10-30T19:22:07.067899200Z"
    }
   }
  },
  {
   "cell_type": "code",
   "execution_count": 5,
   "outputs": [
    {
     "data": {
      "text/plain": "Vec(192424,131051,13008, dtype=int32)"
     },
     "execution_count": 5,
     "metadata": {},
     "output_type": "execute_result"
    }
   ],
   "source": [
    "seg_vol.volume_size"
   ],
   "metadata": {
    "collapsed": false,
    "ExecuteTime": {
     "end_time": "2023-10-30T19:22:07.332529500Z",
     "start_time": "2023-10-30T19:22:07.323528100Z"
    }
   }
  },
  {
   "cell_type": "code",
   "execution_count": 28,
   "outputs": [
    {
     "ename": "KeyboardInterrupt",
     "evalue": "",
     "output_type": "error",
     "traceback": [
      "\u001B[1;31m---------------------------------------------------------------------------\u001B[0m",
      "\u001B[1;31mKeyboardInterrupt\u001B[0m                         Traceback (most recent call last)",
      "Cell \u001B[1;32mIn[28], line 1\u001B[0m\n\u001B[1;32m----> 1\u001B[0m data \u001B[38;5;241m=\u001B[39m np\u001B[38;5;241m.\u001B[39msqueeze(\u001B[43mem_vol\u001B[49m\u001B[43m[\u001B[49m\u001B[38;5;241;43m13824\u001B[39;49m\u001B[43m:\u001B[49m\u001B[38;5;241;43m226816\u001B[39;49m\u001B[43m,\u001B[49m\u001B[43m \u001B[49m\u001B[38;5;241;43m13824\u001B[39;49m\u001B[43m:\u001B[49m\u001B[38;5;241;43m194048\u001B[39;49m\u001B[43m,\u001B[49m\u001B[43m \u001B[49m\u001B[38;5;241;43m14816\u001B[39;49m\u001B[43m]\u001B[49m)\n\u001B[0;32m      2\u001B[0m \u001B[38;5;66;03m#x: 13824 to 226816\u001B[39;00m\n\u001B[0;32m      3\u001B[0m \u001B[38;5;66;03m#y: 13824 to 194048\u001B[39;00m\n\u001B[0;32m      4\u001B[0m \u001B[38;5;66;03m#z: 14816 to 27904\u001B[39;00m\n",
      "File \u001B[1;32m~\\.conda\\envs\\frame-interpolation\\lib\\site-packages\\cloudvolume\\frontends\\precomputed.py:551\u001B[0m, in \u001B[0;36mCloudVolumePrecomputed.__getitem__\u001B[1;34m(self, slices)\u001B[0m\n\u001B[0;32m    548\u001B[0m channel_slice \u001B[38;5;241m=\u001B[39m slices\u001B[38;5;241m.\u001B[39mpop()\n\u001B[0;32m    549\u001B[0m requested_bbox \u001B[38;5;241m=\u001B[39m Bbox\u001B[38;5;241m.\u001B[39mfrom_slices(slices)\n\u001B[1;32m--> 551\u001B[0m img \u001B[38;5;241m=\u001B[39m \u001B[38;5;28;43mself\u001B[39;49m\u001B[38;5;241;43m.\u001B[39;49m\u001B[43mdownload\u001B[49m\u001B[43m(\u001B[49m\u001B[43mrequested_bbox\u001B[49m\u001B[43m,\u001B[49m\u001B[43m \u001B[49m\u001B[38;5;28;43mself\u001B[39;49m\u001B[38;5;241;43m.\u001B[39;49m\u001B[43mmip\u001B[49m\u001B[43m)\u001B[49m\n\u001B[0;32m    552\u001B[0m \u001B[38;5;28;01mreturn\u001B[39;00m img[::steps\u001B[38;5;241m.\u001B[39mx, ::steps\u001B[38;5;241m.\u001B[39my, ::steps\u001B[38;5;241m.\u001B[39mz, channel_slice]\n",
      "File \u001B[1;32m~\\.conda\\envs\\frame-interpolation\\lib\\site-packages\\cloudvolume\\frontends\\precomputed.py:731\u001B[0m, in \u001B[0;36mCloudVolumePrecomputed.download\u001B[1;34m(self, bbox, mip, parallel, segids, preserve_zeros, agglomerate, timestamp, stop_layer, renumber, coord_resolution)\u001B[0m\n\u001B[0;32m    728\u001B[0m \u001B[38;5;28;01mif\u001B[39;00m parallel \u001B[38;5;129;01mis\u001B[39;00m \u001B[38;5;28;01mNone\u001B[39;00m:\n\u001B[0;32m    729\u001B[0m   parallel \u001B[38;5;241m=\u001B[39m \u001B[38;5;28mself\u001B[39m\u001B[38;5;241m.\u001B[39mparallel\n\u001B[1;32m--> 731\u001B[0m tup \u001B[38;5;241m=\u001B[39m \u001B[38;5;28;43mself\u001B[39;49m\u001B[38;5;241;43m.\u001B[39;49m\u001B[43mimage\u001B[49m\u001B[38;5;241;43m.\u001B[39;49m\u001B[43mdownload\u001B[49m\u001B[43m(\u001B[49m\n\u001B[0;32m    732\u001B[0m \u001B[43m  \u001B[49m\u001B[43mbbox\u001B[49m\u001B[38;5;241;43m.\u001B[39;49m\u001B[43mastype\u001B[49m\u001B[43m(\u001B[49m\u001B[43mnp\u001B[49m\u001B[38;5;241;43m.\u001B[39;49m\u001B[43mint64\u001B[49m\u001B[43m)\u001B[49m\u001B[43m,\u001B[49m\u001B[43m \u001B[49m\u001B[43mmip\u001B[49m\u001B[43m,\u001B[49m\u001B[43m \u001B[49m\u001B[43mparallel\u001B[49m\u001B[38;5;241;43m=\u001B[39;49m\u001B[43mparallel\u001B[49m\u001B[43m,\u001B[49m\u001B[43m \u001B[49m\u001B[43mrenumber\u001B[49m\u001B[38;5;241;43m=\u001B[39;49m\u001B[38;5;28;43mbool\u001B[39;49m\u001B[43m(\u001B[49m\u001B[43mrenumber\u001B[49m\u001B[43m)\u001B[49m\n\u001B[0;32m    733\u001B[0m \u001B[43m\u001B[49m\u001B[43m)\u001B[49m\n\u001B[0;32m    734\u001B[0m \u001B[38;5;28;01mif\u001B[39;00m renumber:\n\u001B[0;32m    735\u001B[0m   img, remap \u001B[38;5;241m=\u001B[39m tup\n",
      "File \u001B[1;32m~\\.conda\\envs\\frame-interpolation\\lib\\site-packages\\cloudvolume\\datasource\\precomputed\\image\\__init__.py:190\u001B[0m, in \u001B[0;36mPrecomputedImageSource.download\u001B[1;34m(self, bbox, mip, parallel, location, retain, use_shared_memory, use_file, order, renumber)\u001B[0m\n\u001B[0;32m    188\u001B[0m   scale \u001B[38;5;241m=\u001B[39m \u001B[38;5;28mself\u001B[39m\u001B[38;5;241m.\u001B[39mmeta\u001B[38;5;241m.\u001B[39mscale(mip)\n\u001B[0;32m    189\u001B[0m   spec \u001B[38;5;241m=\u001B[39m sharding\u001B[38;5;241m.\u001B[39mShardingSpecification\u001B[38;5;241m.\u001B[39mfrom_dict(scale[\u001B[38;5;124m'\u001B[39m\u001B[38;5;124msharding\u001B[39m\u001B[38;5;124m'\u001B[39m])\n\u001B[1;32m--> 190\u001B[0m   \u001B[38;5;28;01mreturn\u001B[39;00m \u001B[43mrx\u001B[49m\u001B[38;5;241;43m.\u001B[39;49m\u001B[43mdownload_sharded\u001B[49m\u001B[43m(\u001B[49m\n\u001B[0;32m    191\u001B[0m \u001B[43m    \u001B[49m\u001B[43mbbox\u001B[49m\u001B[43m,\u001B[49m\u001B[43m \u001B[49m\u001B[43mmip\u001B[49m\u001B[43m,\u001B[49m\u001B[43m \u001B[49m\n\u001B[0;32m    192\u001B[0m \u001B[43m    \u001B[49m\u001B[38;5;28;43mself\u001B[39;49m\u001B[38;5;241;43m.\u001B[39;49m\u001B[43mmeta\u001B[49m\u001B[43m,\u001B[49m\u001B[43m \u001B[49m\u001B[38;5;28;43mself\u001B[39;49m\u001B[38;5;241;43m.\u001B[39;49m\u001B[43mcache\u001B[49m\u001B[43m,\u001B[49m\u001B[43m \u001B[49m\u001B[38;5;28;43mself\u001B[39;49m\u001B[38;5;241;43m.\u001B[39;49m\u001B[43mlru\u001B[49m\u001B[43m,\u001B[49m\u001B[43m \u001B[49m\u001B[43mspec\u001B[49m\u001B[43m,\u001B[49m\n\u001B[0;32m    193\u001B[0m \u001B[43m    \u001B[49m\u001B[43mcompress\u001B[49m\u001B[38;5;241;43m=\u001B[39;49m\u001B[38;5;28;43mself\u001B[39;49m\u001B[38;5;241;43m.\u001B[39;49m\u001B[43mconfig\u001B[49m\u001B[38;5;241;43m.\u001B[39;49m\u001B[43mcompress\u001B[49m\u001B[43m,\u001B[49m\n\u001B[0;32m    194\u001B[0m \u001B[43m    \u001B[49m\u001B[43mprogress\u001B[49m\u001B[38;5;241;43m=\u001B[39;49m\u001B[38;5;28;43mself\u001B[39;49m\u001B[38;5;241;43m.\u001B[39;49m\u001B[43mconfig\u001B[49m\u001B[38;5;241;43m.\u001B[39;49m\u001B[43mprogress\u001B[49m\u001B[43m,\u001B[49m\n\u001B[0;32m    195\u001B[0m \u001B[43m    \u001B[49m\u001B[43mfill_missing\u001B[49m\u001B[38;5;241;43m=\u001B[39;49m\u001B[38;5;28;43mself\u001B[39;49m\u001B[38;5;241;43m.\u001B[39;49m\u001B[43mfill_missing\u001B[49m\u001B[43m,\u001B[49m\n\u001B[0;32m    196\u001B[0m \u001B[43m    \u001B[49m\u001B[43morder\u001B[49m\u001B[38;5;241;43m=\u001B[39;49m\u001B[43morder\u001B[49m\u001B[43m,\u001B[49m\n\u001B[0;32m    197\u001B[0m \u001B[43m    \u001B[49m\u001B[43mbackground_color\u001B[49m\u001B[38;5;241;43m=\u001B[39;49m\u001B[38;5;28;43mint\u001B[39;49m\u001B[43m(\u001B[49m\u001B[38;5;28;43mself\u001B[39;49m\u001B[38;5;241;43m.\u001B[39;49m\u001B[43mbackground_color\u001B[49m\u001B[43m)\u001B[49m\u001B[43m,\u001B[49m\n\u001B[0;32m    198\u001B[0m \u001B[43m  \u001B[49m\u001B[43m)\u001B[49m\n\u001B[0;32m    199\u001B[0m \u001B[38;5;28;01melse\u001B[39;00m:\n\u001B[0;32m    200\u001B[0m   \u001B[38;5;28;01mreturn\u001B[39;00m rx\u001B[38;5;241m.\u001B[39mdownload(\n\u001B[0;32m    201\u001B[0m     bbox, mip, \n\u001B[0;32m    202\u001B[0m     meta\u001B[38;5;241m=\u001B[39m\u001B[38;5;28mself\u001B[39m\u001B[38;5;241m.\u001B[39mmeta,\n\u001B[1;32m   (...)\u001B[0m\n\u001B[0;32m    217\u001B[0m     background_color\u001B[38;5;241m=\u001B[39m\u001B[38;5;28mint\u001B[39m(\u001B[38;5;28mself\u001B[39m\u001B[38;5;241m.\u001B[39mbackground_color),\n\u001B[0;32m    218\u001B[0m   )\n",
      "File \u001B[1;32m~\\.conda\\envs\\frame-interpolation\\lib\\site-packages\\cloudvolume\\datasource\\precomputed\\image\\rx.py:76\u001B[0m, in \u001B[0;36mdownload_sharded\u001B[1;34m(requested_bbox, mip, meta, cache, lru, spec, compress, progress, fill_missing, order, background_color)\u001B[0m\n\u001B[0;32m     72\u001B[0m morton_codes \u001B[38;5;241m=\u001B[39m compressed_morton_code(gpts, grid_size)\n\u001B[0;32m     73\u001B[0m \u001B[38;5;28;01mfor\u001B[39;00m gridpoint, morton_code \u001B[38;5;129;01min\u001B[39;00m \u001B[38;5;28mzip\u001B[39m(gpts, morton_codes):\n\u001B[0;32m     74\u001B[0m   cutout_bbox \u001B[38;5;241m=\u001B[39m Bbox(\n\u001B[0;32m     75\u001B[0m     bounds\u001B[38;5;241m.\u001B[39mminpt \u001B[38;5;241m+\u001B[39m gridpoint \u001B[38;5;241m*\u001B[39m chunk_size,\n\u001B[1;32m---> 76\u001B[0m     \u001B[43mmin2\u001B[49m\u001B[43m(\u001B[49m\u001B[43mbounds\u001B[49m\u001B[38;5;241;43m.\u001B[39;49m\u001B[43mminpt\u001B[49m\u001B[43m \u001B[49m\u001B[38;5;241;43m+\u001B[39;49m\u001B[43m \u001B[49m\u001B[43m(\u001B[49m\u001B[43mgridpoint\u001B[49m\u001B[43m \u001B[49m\u001B[38;5;241;43m+\u001B[39;49m\u001B[43m \u001B[49m\u001B[38;5;241;43m1\u001B[39;49m\u001B[43m)\u001B[49m\u001B[43m \u001B[49m\u001B[38;5;241;43m*\u001B[39;49m\u001B[43m \u001B[49m\u001B[43mchunk_size\u001B[49m\u001B[43m,\u001B[49m\u001B[43m \u001B[49m\u001B[43mbounds\u001B[49m\u001B[38;5;241;43m.\u001B[39;49m\u001B[43mmaxpt\u001B[49m\u001B[43m)\u001B[49m\n\u001B[0;32m     77\u001B[0m   )\n\u001B[0;32m     78\u001B[0m   code_map[morton_code] \u001B[38;5;241m=\u001B[39m cutout_bbox\n\u001B[0;32m     80\u001B[0m single_voxel \u001B[38;5;241m=\u001B[39m requested_bbox\u001B[38;5;241m.\u001B[39mvolume() \u001B[38;5;241m==\u001B[39m \u001B[38;5;241m1\u001B[39m\n",
      "File \u001B[1;32m~\\.conda\\envs\\frame-interpolation\\lib\\site-packages\\cloudvolume\\lib.py:252\u001B[0m, in \u001B[0;36mmin2\u001B[1;34m(a, b)\u001B[0m\n\u001B[0;32m    251\u001B[0m \u001B[38;5;28;01mdef\u001B[39;00m \u001B[38;5;21mmin2\u001B[39m(a, b):\n\u001B[1;32m--> 252\u001B[0m   \u001B[38;5;28;01mreturn\u001B[39;00m \u001B[43mmap2\u001B[49m\u001B[43m(\u001B[49m\u001B[38;5;28;43mmin\u001B[39;49m\u001B[43m,\u001B[49m\u001B[43m \u001B[49m\u001B[43ma\u001B[49m\u001B[43m,\u001B[49m\u001B[43m \u001B[49m\u001B[43mb\u001B[49m\u001B[43m)\u001B[49m\u001B[38;5;241;43m.\u001B[39;49m\u001B[43mastype\u001B[49m\u001B[43m(\u001B[49m\u001B[43ma\u001B[49m\u001B[38;5;241;43m.\u001B[39;49m\u001B[43mdtype\u001B[49m\u001B[43m)\u001B[49m\n",
      "\u001B[1;31mKeyboardInterrupt\u001B[0m: "
     ]
    }
   ],
   "source": [
    "data = np.squeeze(em_vol[13824:226816, 13824:194048, 14816])\n",
    "#x: 13824 to 226816\n",
    "#y: 13824 to 194048\n",
    "#z: 14816 to 27904"
   ],
   "metadata": {
    "collapsed": false,
    "ExecuteTime": {
     "end_time": "2023-10-30T19:29:05.620898Z",
     "start_time": "2023-10-30T19:27:45.208077Z"
    }
   }
  },
  {
   "cell_type": "code",
   "execution_count": null,
   "outputs": [],
   "source": [
    "from PIL import Image\n",
    "Image.fromarray(np.squeeze(data)).save('tmp.png')"
   ],
   "metadata": {
    "collapsed": false
   }
  },
  {
   "cell_type": "code",
   "execution_count": null,
   "outputs": [],
   "source": [
    "np.max(data)"
   ],
   "metadata": {
    "collapsed": false
   }
  },
  {
   "cell_type": "code",
   "execution_count": null,
   "outputs": [],
   "source": [],
   "metadata": {
    "collapsed": false
   }
  }
 ],
 "metadata": {
  "kernelspec": {
   "display_name": "Python 3",
   "language": "python",
   "name": "python3"
  },
  "language_info": {
   "codemirror_mode": {
    "name": "ipython",
    "version": 2
   },
   "file_extension": ".py",
   "mimetype": "text/x-python",
   "name": "python",
   "nbconvert_exporter": "python",
   "pygments_lexer": "ipython2",
   "version": "2.7.6"
  }
 },
 "nbformat": 4,
 "nbformat_minor": 0
}
