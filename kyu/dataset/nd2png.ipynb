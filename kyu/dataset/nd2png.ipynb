{
 "cells": [
  {
   "cell_type": "code",
   "execution_count": 13,
   "outputs": [],
   "source": [
    "import nd2\n",
    "import numpy as np\n",
    "from PIL import Image\n",
    "import os"
   ],
   "metadata": {
    "collapsed": false,
    "ExecuteTime": {
     "start_time": "2023-09-28T11:06:38.386013Z",
     "end_time": "2023-09-28T11:06:38.399480Z"
    }
   }
  },
  {
   "cell_type": "code",
   "execution_count": 11,
   "outputs": [],
   "source": [
    "nd2file = nd2.imread(r\"\\\\motherserverdw\\Lab Members\\Praful\\2023\\20230920 2D cell migration DNA-FITC Actin-Cy5 HT MDA MCF\\Split\\1. HT-1080\\day 2, 2-14_xy04.nd2\").astype(np.float32)\n",
    "brightfield = nd2file[:, 2, :, :]\n",
    "_UINT8_MAX_F = float(np.iinfo(np.uint8).max)\n",
    "brightfield = brightfield / brightfield.max() * _UINT8_MAX_F\n",
    "brightfield = np.uint8(brightfield)"
   ],
   "metadata": {
    "collapsed": false,
    "ExecuteTime": {
     "start_time": "2023-09-28T10:58:45.385968Z",
     "end_time": "2023-09-28T11:01:47.139950Z"
    }
   }
  },
  {
   "cell_type": "code",
   "execution_count": 16,
   "outputs": [],
   "source": [
    "dst = r'\\\\motherserverdw\\Lab Members\\Praful\\2023\\20230920 2D cell migration DNA-FITC Actin-Cy5 HT MDA MCF\\Split\\1. HT-1080\\day 2, 2-14_xy04_png'\n",
    "for idx,bf in enumerate(brightfield):\n",
    "    Image.fromarray(bf).save(os.path.join(dst,str(idx)+'.png'))"
   ],
   "metadata": {
    "collapsed": false,
    "ExecuteTime": {
     "start_time": "2023-09-28T11:07:06.610483Z",
     "end_time": "2023-09-28T11:12:59.315670Z"
    }
   }
  },
  {
   "cell_type": "code",
   "execution_count": 17,
   "outputs": [],
   "source": [
    "dst = r'\\\\motherserverdw\\Lab Members\\Praful\\2023\\20230920 2D cell migration DNA-FITC Actin-Cy5 HT MDA MCF\\Split\\1. HT-1080\\day 2, 2-14_xy04_tif'\n",
    "if not os.path.exists(dst):os.mkdir(dst)\n",
    "for idx,bf in enumerate(brightfield):\n",
    "    Image.fromarray(bf).save(os.path.join(dst,str(idx)+'.tif'),compression=\"tiff_lzw\")"
   ],
   "metadata": {
    "collapsed": false,
    "ExecuteTime": {
     "start_time": "2023-09-28T11:44:57.107750Z",
     "end_time": "2023-09-28T11:45:33.978985Z"
    }
   }
  },
  {
   "cell_type": "code",
   "execution_count": null,
   "outputs": [],
   "source": [
    "nd2pths = [\n",
    "    r\"\\\\motherserverdw\\Lab Members\\Praful\\2023\\20230920 2D cell migration DNA-FITC Actin-Cy5 HT MDA MCF\\Split\\1. HT-1080\\day 2, 2-14_xy04.nd2\",\n",
    "    r\"\\\\motherserverdw\\Lab Members\\Praful\\2023\\20230920 2D cell migration DNA-FITC Actin-Cy5 HT MDA MCF\\Split\\2. MDA-MB-231\\day 2, 2-14_xy10.nd2\",\n",
    "    r\"\\\\motherserverdw\\Lab Members\\Praful\\2023\\20230920 2D cell migration DNA-FITC Actin-Cy5 HT MDA MCF\\Split\\3. MCF7\\day 2, 2-14_xy15.nd2\"\n",
    "]\n",
    "for nd2pth in nd2pths:\n",
    "    nd2file = nd2.imread(nd2pth).astype(np.float32)\n",
    "    brightfield = nd2file[:, 2, :, :]\n",
    "    _UINT16_MAX_F = float(np.iinfo(np.uint16).max)\n",
    "    brightfield = brightfield / brightfield.max() * _UINT16_MAX_F\n",
    "    brightfield = np.uint8(brightfield)"
   ],
   "metadata": {
    "collapsed": false
   }
  }
 ],
 "metadata": {
  "kernelspec": {
   "display_name": "Python 3",
   "language": "python",
   "name": "python3"
  },
  "language_info": {
   "codemirror_mode": {
    "name": "ipython",
    "version": 2
   },
   "file_extension": ".py",
   "mimetype": "text/x-python",
   "name": "python",
   "nbconvert_exporter": "python",
   "pygments_lexer": "ipython2",
   "version": "2.7.6"
  }
 },
 "nbformat": 4,
 "nbformat_minor": 0
}
