{
 "cells": [
  {
   "cell_type": "code",
   "execution_count": 4,
   "metadata": {
    "collapsed": true,
    "ExecuteTime": {
     "end_time": "2023-06-09T16:56:47.841879500Z",
     "start_time": "2023-06-09T16:56:47.828913100Z"
    }
   },
   "outputs": [],
   "source": [
    "import functools\n",
    "import os\n",
    "from typing import List\n",
    "\n",
    "from eval import interpolator as interpolator_lib\n",
    "from eval import util\n",
    "from absl import logging\n",
    "import apache_beam as beam\n",
    "import mediapy as media\n",
    "import natsort\n",
    "import numpy as np\n",
    "import tensorflow as tf\n",
    "from tqdm.auto import tqdm\n",
    "\n",
    "# Controls TF_CCP log level.\n",
    "os.environ['TF_CPP_MIN_LOG_LEVEL'] = '1'"
   ]
  },
  {
   "cell_type": "code",
   "execution_count": 14,
   "outputs": [
    {
     "data": {
      "text/plain": "31"
     },
     "execution_count": 14,
     "metadata": {},
     "output_type": "execute_result"
    }
   ],
   "source": [
    "n=2\n",
    "times_to_interpolate=5\n",
    "num_frames = (n - 1) * (2**(times_to_interpolate) - 1)\n",
    "num_frames"
   ],
   "metadata": {
    "collapsed": false,
    "ExecuteTime": {
     "end_time": "2023-06-09T17:27:25.046908300Z",
     "start_time": "2023-06-09T17:27:25.032944400Z"
    }
   }
  },
  {
   "cell_type": "code",
   "execution_count": 5,
   "outputs": [],
   "source": [
    "def _output_frames(frames: List[np.ndarray], frames_dir: str):\n",
    "  \"\"\"Writes PNG-images to a directory.\n",
    "\n",
    "  If frames_dir doesn't exist, it is created. If frames_dir contains existing\n",
    "  PNG-files, they are removed before saving the new ones.\n",
    "\n",
    "  Args:\n",
    "    frames: List of images to save.\n",
    "    frames_dir: The output directory to save the images.\n",
    "\n",
    "  \"\"\"\n",
    "  # if tf.io.gfile.isdir(frames_dir):\n",
    "  #   old_frames = tf.io.gfile.glob(f'{frames_dir}/frame_*.png')\n",
    "  #   if old_frames:\n",
    "  #     logging.info('Removing existing frames from %s.', frames_dir)\n",
    "  #     for old_frame in old_frames:\n",
    "  #       tf.io.gfile.remove(old_frame)\n",
    "  # else:\n",
    "  #   tf.io.gfile.makedirs(frames_dir)\n",
    "  for idx, frame in tqdm(\n",
    "      enumerate(frames), total=len(frames), ncols=100, colour='green'):\n",
    "    util.write_image(f'{frames_dir}/im_{idx:02d}_{modelname}.png', frame)\n",
    "  logging.info('Output frames saved in %s.', frames_dir)\n",
    "\n",
    "class ProcessDirectory(beam.DoFn):\n",
    "  \"\"\"DoFn for running the interpolator on a single directory at the time.\"\"\"\n",
    "\n",
    "  def setup(self):\n",
    "    self.interpolator = interpolator_lib.Interpolator(\n",
    "        modelpath, align,\n",
    "        [bh, bw])\n",
    "\n",
    "    if outputvideo:\n",
    "      ffmpeg_path = util.get_ffmpeg_path()\n",
    "      media.set_ffmpeg(ffmpeg_path)\n",
    "\n",
    "  def process(self, directory: str):\n",
    "    input_frames_list = [\n",
    "        natsort.natsorted(tf.io.gfile.glob(f'{directory}/*{ext}'))\n",
    "        for ext in input_ext\n",
    "    ]\n",
    "    input_frames = functools.reduce(lambda x, y: x + y, input_frames_list)\n",
    "    logging.info('Generating in-between frames for %s.', directory)\n",
    "    frames = list(\n",
    "        util.interpolate_recursively_from_files(\n",
    "            input_frames, time2inter, self.interpolator))\n",
    "    _output_frames(frames, f'{directory}')\n",
    "\n",
    "    if outputvideo:\n",
    "      media.write_video(f'{directory}/interpolated.mp4', frames, fps=fps)\n",
    "      logging.info('Out;put video saved at %s/interpolated.mp4.', directory)"
   ],
   "metadata": {
    "collapsed": false,
    "ExecuteTime": {
     "end_time": "2023-06-09T16:56:47.861838700Z",
     "start_time": "2023-06-09T16:56:47.847868300Z"
    }
   }
  },
  {
   "cell_type": "code",
   "execution_count": 7,
   "outputs": [
    {
     "name": "stdout",
     "output_type": "stream",
     "text": [
      "['\\\\\\\\shelter\\\\Kyu\\\\motility_interpolation\\\\filmtest_train_skip5\\\\sequences\\\\xy001\\\\000', '\\\\\\\\shelter\\\\Kyu\\\\motility_interpolation\\\\filmtest_train_skip5\\\\sequences\\\\xy001\\\\001']\n"
     ]
    }
   ],
   "source": [
    "pattern = r\"\\\\shelter\\Kyu\\motility_interpolation\\filmtest_train_skip5\\sequences\\*\\*\"\n",
    "directories = tf.io.gfile.glob(pattern)\n",
    "directories = directories[:2]\n",
    "print(directories)\n",
    "\n",
    "modelpath=r\"\\\\shelter\\Kyu\\motility_interpolation\\pretrained_models\\film_net\\Style\\saved_model\"\n",
    "# modelname=os.path.basename(modelpath)\n",
    "modelname='ogfilm'\n",
    "time2inter=5\n",
    "\n",
    "align=64\n",
    "bh=1\n",
    "bw=1\n",
    "outputvideo=False\n",
    "fps=30\n",
    "input_ext=['1.png','3.png']\n",
    "\n",
    "pipeline = beam.Pipeline('DirectRunner')"
   ],
   "metadata": {
    "collapsed": false,
    "ExecuteTime": {
     "end_time": "2023-06-09T16:57:40.862230300Z",
     "start_time": "2023-06-09T16:57:39.178188500Z"
    }
   }
  },
  {
   "cell_type": "code",
   "execution_count": 8,
   "outputs": [
    {
     "ename": "AttributeError",
     "evalue": "type object 'Series' has no attribute 'append'",
     "output_type": "error",
     "traceback": [
      "\u001B[1;31m---------------------------------------------------------------------------\u001B[0m",
      "\u001B[1;31mAttributeError\u001B[0m                            Traceback (most recent call last)",
      "Cell \u001B[1;32mIn[8], line 1\u001B[0m\n\u001B[1;32m----> 1\u001B[0m (\u001B[43mpipeline\u001B[49m\u001B[43m \u001B[49m\u001B[38;5;241;43m|\u001B[39;49m\u001B[43m \u001B[49m\u001B[38;5;124;43m'\u001B[39;49m\u001B[38;5;124;43mCreate directory names\u001B[39;49m\u001B[38;5;124;43m'\u001B[39;49m\u001B[43m \u001B[49m\u001B[38;5;241;43m>>\u001B[39;49m\u001B[43m \u001B[49m\u001B[43mbeam\u001B[49m\u001B[38;5;241;43m.\u001B[39;49m\u001B[43mCreate\u001B[49m\u001B[43m(\u001B[49m\u001B[43mdirectories\u001B[49m\u001B[43m)\u001B[49m  \u001B[38;5;66;03m# pylint: disable=expression-not-assigned\u001B[39;00m\n\u001B[0;32m      2\u001B[0m    \u001B[38;5;241m|\u001B[39m \u001B[38;5;124m'\u001B[39m\u001B[38;5;124mProcess directories\u001B[39m\u001B[38;5;124m'\u001B[39m \u001B[38;5;241m>>\u001B[39m beam\u001B[38;5;241m.\u001B[39mParDo(ProcessDirectory()))\n",
      "File \u001B[1;32mC:\\ProgramData\\Anaconda3\\envs\\frame-interpolation\\lib\\site-packages\\apache_beam\\transforms\\ptransform.py:1090\u001B[0m, in \u001B[0;36m_NamedPTransform.__ror__\u001B[1;34m(self, pvalueish, _unused)\u001B[0m\n\u001B[0;32m   1089\u001B[0m \u001B[38;5;28;01mdef\u001B[39;00m \u001B[38;5;21m__ror__\u001B[39m(\u001B[38;5;28mself\u001B[39m, pvalueish, _unused\u001B[38;5;241m=\u001B[39m\u001B[38;5;28;01mNone\u001B[39;00m):\n\u001B[1;32m-> 1090\u001B[0m   \u001B[38;5;28;01mreturn\u001B[39;00m \u001B[38;5;28;43mself\u001B[39;49m\u001B[38;5;241;43m.\u001B[39;49m\u001B[43mtransform\u001B[49m\u001B[38;5;241;43m.\u001B[39;49m\u001B[38;5;21;43m__ror__\u001B[39;49m\u001B[43m(\u001B[49m\u001B[43mpvalueish\u001B[49m\u001B[43m,\u001B[49m\u001B[43m \u001B[49m\u001B[38;5;28;43mself\u001B[39;49m\u001B[38;5;241;43m.\u001B[39;49m\u001B[43mlabel\u001B[49m\u001B[43m)\u001B[49m\n",
      "File \u001B[1;32mC:\\ProgramData\\Anaconda3\\envs\\frame-interpolation\\lib\\site-packages\\apache_beam\\transforms\\ptransform.py:614\u001B[0m, in \u001B[0;36mPTransform.__ror__\u001B[1;34m(self, left, label)\u001B[0m\n\u001B[0;32m    612\u001B[0m pvalueish \u001B[38;5;241m=\u001B[39m _SetInputPValues()\u001B[38;5;241m.\u001B[39mvisit(pvalueish, replacements)\n\u001B[0;32m    613\u001B[0m \u001B[38;5;28mself\u001B[39m\u001B[38;5;241m.\u001B[39mpipeline \u001B[38;5;241m=\u001B[39m p\n\u001B[1;32m--> 614\u001B[0m result \u001B[38;5;241m=\u001B[39m \u001B[43mp\u001B[49m\u001B[38;5;241;43m.\u001B[39;49m\u001B[43mapply\u001B[49m\u001B[43m(\u001B[49m\u001B[38;5;28;43mself\u001B[39;49m\u001B[43m,\u001B[49m\u001B[43m \u001B[49m\u001B[43mpvalueish\u001B[49m\u001B[43m,\u001B[49m\u001B[43m \u001B[49m\u001B[43mlabel\u001B[49m\u001B[43m)\u001B[49m\n\u001B[0;32m    615\u001B[0m \u001B[38;5;28;01mif\u001B[39;00m deferred:\n\u001B[0;32m    616\u001B[0m   \u001B[38;5;28;01mreturn\u001B[39;00m result\n",
      "File \u001B[1;32mC:\\ProgramData\\Anaconda3\\envs\\frame-interpolation\\lib\\site-packages\\apache_beam\\pipeline.py:662\u001B[0m, in \u001B[0;36mPipeline.apply\u001B[1;34m(self, transform, pvalueish, label)\u001B[0m\n\u001B[0;32m    660\u001B[0m \u001B[38;5;28;01mtry\u001B[39;00m:\n\u001B[0;32m    661\u001B[0m   old_label, transform\u001B[38;5;241m.\u001B[39mlabel \u001B[38;5;241m=\u001B[39m transform\u001B[38;5;241m.\u001B[39mlabel, label\n\u001B[1;32m--> 662\u001B[0m   \u001B[38;5;28;01mreturn\u001B[39;00m \u001B[38;5;28;43mself\u001B[39;49m\u001B[38;5;241;43m.\u001B[39;49m\u001B[43mapply\u001B[49m\u001B[43m(\u001B[49m\u001B[43mtransform\u001B[49m\u001B[43m,\u001B[49m\u001B[43m \u001B[49m\u001B[43mpvalueish\u001B[49m\u001B[43m)\u001B[49m\n\u001B[0;32m    663\u001B[0m \u001B[38;5;28;01mfinally\u001B[39;00m:\n\u001B[0;32m    664\u001B[0m   transform\u001B[38;5;241m.\u001B[39mlabel \u001B[38;5;241m=\u001B[39m old_label\n",
      "File \u001B[1;32mC:\\ProgramData\\Anaconda3\\envs\\frame-interpolation\\lib\\site-packages\\apache_beam\\pipeline.py:670\u001B[0m, in \u001B[0;36mPipeline.apply\u001B[1;34m(self, transform, pvalueish, label)\u001B[0m\n\u001B[0;32m    666\u001B[0m \u001B[38;5;66;03m# Attempts to alter the label of the transform to be applied only when it's\u001B[39;00m\n\u001B[0;32m    667\u001B[0m \u001B[38;5;66;03m# a top-level transform so that the cell number will not be prepended to\u001B[39;00m\n\u001B[0;32m    668\u001B[0m \u001B[38;5;66;03m# every child transform in a composite.\u001B[39;00m\n\u001B[0;32m    669\u001B[0m \u001B[38;5;28;01mif\u001B[39;00m \u001B[38;5;28mself\u001B[39m\u001B[38;5;241m.\u001B[39m_current_transform() \u001B[38;5;129;01mis\u001B[39;00m \u001B[38;5;28mself\u001B[39m\u001B[38;5;241m.\u001B[39m_root_transform():\n\u001B[1;32m--> 670\u001B[0m   \u001B[43malter_label_if_ipython\u001B[49m\u001B[43m(\u001B[49m\u001B[43mtransform\u001B[49m\u001B[43m,\u001B[49m\u001B[43m \u001B[49m\u001B[43mpvalueish\u001B[49m\u001B[43m)\u001B[49m\n\u001B[0;32m    672\u001B[0m full_label \u001B[38;5;241m=\u001B[39m \u001B[38;5;124m'\u001B[39m\u001B[38;5;124m/\u001B[39m\u001B[38;5;124m'\u001B[39m\u001B[38;5;241m.\u001B[39mjoin(\n\u001B[0;32m    673\u001B[0m     [\u001B[38;5;28mself\u001B[39m\u001B[38;5;241m.\u001B[39m_current_transform()\u001B[38;5;241m.\u001B[39mfull_label, label \u001B[38;5;129;01mor\u001B[39;00m\n\u001B[0;32m    674\u001B[0m      transform\u001B[38;5;241m.\u001B[39mlabel])\u001B[38;5;241m.\u001B[39mlstrip(\u001B[38;5;124m'\u001B[39m\u001B[38;5;124m/\u001B[39m\u001B[38;5;124m'\u001B[39m)\n\u001B[0;32m    675\u001B[0m \u001B[38;5;28;01mif\u001B[39;00m full_label \u001B[38;5;129;01min\u001B[39;00m \u001B[38;5;28mself\u001B[39m\u001B[38;5;241m.\u001B[39mapplied_labels:\n",
      "File \u001B[1;32mC:\\ProgramData\\Anaconda3\\envs\\frame-interpolation\\lib\\site-packages\\apache_beam\\utils\\interactive_utils.py:74\u001B[0m, in \u001B[0;36malter_label_if_ipython\u001B[1;34m(transform, pvalueish)\u001B[0m\n\u001B[0;32m     62\u001B[0m \u001B[38;5;250m\u001B[39m\u001B[38;5;124;03m\"\"\"Alters the label to an interactive label with ipython prompt metadata\u001B[39;00m\n\u001B[0;32m     63\u001B[0m \u001B[38;5;124;03mprefixed for the given transform if the given pvalueish belongs to a\u001B[39;00m\n\u001B[0;32m     64\u001B[0m \u001B[38;5;124;03muser-defined pipeline and current code execution is within an ipython kernel.\u001B[39;00m\n\u001B[1;32m   (...)\u001B[0m\n\u001B[0;32m     71\u001B[0m \u001B[38;5;124;03m`Cell {prompt}: {original_label}`.\u001B[39;00m\n\u001B[0;32m     72\u001B[0m \u001B[38;5;124;03m\"\"\"\u001B[39;00m\n\u001B[0;32m     73\u001B[0m \u001B[38;5;28;01mif\u001B[39;00m is_in_ipython():\n\u001B[1;32m---> 74\u001B[0m   \u001B[38;5;28;01mfrom\u001B[39;00m \u001B[38;5;21;01mapache_beam\u001B[39;00m\u001B[38;5;21;01m.\u001B[39;00m\u001B[38;5;21;01mrunners\u001B[39;00m\u001B[38;5;21;01m.\u001B[39;00m\u001B[38;5;21;01minteractive\u001B[39;00m \u001B[38;5;28;01mimport\u001B[39;00m interactive_environment \u001B[38;5;28;01mas\u001B[39;00m ie\n\u001B[0;32m     75\u001B[0m   \u001B[38;5;66;03m# Tracks user defined pipeline instances in watched scopes so that we only\u001B[39;00m\n\u001B[0;32m     76\u001B[0m   \u001B[38;5;66;03m# alter labels for any transform to pvalueish belonging to those pipeline\u001B[39;00m\n\u001B[0;32m     77\u001B[0m   \u001B[38;5;66;03m# instances, excluding any transform to be applied in other pipeline\u001B[39;00m\n\u001B[0;32m     78\u001B[0m   \u001B[38;5;66;03m# instances the Beam SDK creates implicitly.\u001B[39;00m\n\u001B[0;32m     79\u001B[0m   ie\u001B[38;5;241m.\u001B[39mcurrent_env()\u001B[38;5;241m.\u001B[39mtrack_user_pipelines()\n",
      "File \u001B[1;32mC:\\ProgramData\\Anaconda3\\envs\\frame-interpolation\\lib\\site-packages\\apache_beam\\runners\\interactive\\interactive_environment.py:37\u001B[0m\n\u001B[0;32m     35\u001B[0m \u001B[38;5;28;01mfrom\u001B[39;00m \u001B[38;5;21;01mapache_beam\u001B[39;00m\u001B[38;5;21;01m.\u001B[39;00m\u001B[38;5;21;01mrunners\u001B[39;00m \u001B[38;5;28;01mimport\u001B[39;00m runner\n\u001B[0;32m     36\u001B[0m \u001B[38;5;28;01mfrom\u001B[39;00m \u001B[38;5;21;01mapache_beam\u001B[39;00m\u001B[38;5;21;01m.\u001B[39;00m\u001B[38;5;21;01mrunners\u001B[39;00m\u001B[38;5;21;01m.\u001B[39;00m\u001B[38;5;21;01minteractive\u001B[39;00m \u001B[38;5;28;01mimport\u001B[39;00m cache_manager \u001B[38;5;28;01mas\u001B[39;00m cache\n\u001B[1;32m---> 37\u001B[0m \u001B[38;5;28;01mfrom\u001B[39;00m \u001B[38;5;21;01mapache_beam\u001B[39;00m\u001B[38;5;21;01m.\u001B[39;00m\u001B[38;5;21;01mrunners\u001B[39;00m\u001B[38;5;21;01m.\u001B[39;00m\u001B[38;5;21;01minteractive\u001B[39;00m\u001B[38;5;21;01m.\u001B[39;00m\u001B[38;5;21;01mmessaging\u001B[39;00m\u001B[38;5;21;01m.\u001B[39;00m\u001B[38;5;21;01minteractive_environment_inspector\u001B[39;00m \u001B[38;5;28;01mimport\u001B[39;00m InteractiveEnvironmentInspector\n\u001B[0;32m     38\u001B[0m \u001B[38;5;28;01mfrom\u001B[39;00m \u001B[38;5;21;01mapache_beam\u001B[39;00m\u001B[38;5;21;01m.\u001B[39;00m\u001B[38;5;21;01mrunners\u001B[39;00m\u001B[38;5;21;01m.\u001B[39;00m\u001B[38;5;21;01minteractive\u001B[39;00m\u001B[38;5;21;01m.\u001B[39;00m\u001B[38;5;21;01mrecording_manager\u001B[39;00m \u001B[38;5;28;01mimport\u001B[39;00m RecordingManager\n\u001B[0;32m     39\u001B[0m \u001B[38;5;28;01mfrom\u001B[39;00m \u001B[38;5;21;01mapache_beam\u001B[39;00m\u001B[38;5;21;01m.\u001B[39;00m\u001B[38;5;21;01mrunners\u001B[39;00m\u001B[38;5;21;01m.\u001B[39;00m\u001B[38;5;21;01minteractive\u001B[39;00m\u001B[38;5;21;01m.\u001B[39;00m\u001B[38;5;21;01msql\u001B[39;00m\u001B[38;5;21;01m.\u001B[39;00m\u001B[38;5;21;01msql_chain\u001B[39;00m \u001B[38;5;28;01mimport\u001B[39;00m SqlChain\n",
      "File \u001B[1;32mC:\\ProgramData\\Anaconda3\\envs\\frame-interpolation\\lib\\site-packages\\apache_beam\\runners\\interactive\\messaging\\interactive_environment_inspector.py:26\u001B[0m\n\u001B[0;32m     23\u001B[0m \u001B[38;5;66;03m# pytype: skip-file\u001B[39;00m\n\u001B[0;32m     25\u001B[0m \u001B[38;5;28;01mimport\u001B[39;00m \u001B[38;5;21;01mapache_beam\u001B[39;00m \u001B[38;5;28;01mas\u001B[39;00m \u001B[38;5;21;01mbeam\u001B[39;00m\n\u001B[1;32m---> 26\u001B[0m \u001B[38;5;28;01mfrom\u001B[39;00m \u001B[38;5;21;01mapache_beam\u001B[39;00m\u001B[38;5;21;01m.\u001B[39;00m\u001B[38;5;21;01mrunners\u001B[39;00m\u001B[38;5;21;01m.\u001B[39;00m\u001B[38;5;21;01minteractive\u001B[39;00m\u001B[38;5;21;01m.\u001B[39;00m\u001B[38;5;21;01mutils\u001B[39;00m \u001B[38;5;28;01mimport\u001B[39;00m as_json\n\u001B[0;32m     27\u001B[0m \u001B[38;5;28;01mfrom\u001B[39;00m \u001B[38;5;21;01mapache_beam\u001B[39;00m\u001B[38;5;21;01m.\u001B[39;00m\u001B[38;5;21;01mrunners\u001B[39;00m\u001B[38;5;21;01m.\u001B[39;00m\u001B[38;5;21;01minteractive\u001B[39;00m\u001B[38;5;21;01m.\u001B[39;00m\u001B[38;5;21;01mutils\u001B[39;00m \u001B[38;5;28;01mimport\u001B[39;00m obfuscate\n\u001B[0;32m     30\u001B[0m \u001B[38;5;28;01mclass\u001B[39;00m \u001B[38;5;21;01mInteractiveEnvironmentInspector\u001B[39;00m(\u001B[38;5;28mobject\u001B[39m):\n",
      "File \u001B[1;32mC:\\ProgramData\\Anaconda3\\envs\\frame-interpolation\\lib\\site-packages\\apache_beam\\runners\\interactive\\utils.py:33\u001B[0m\n\u001B[0;32m     30\u001B[0m \u001B[38;5;28;01mimport\u001B[39;00m \u001B[38;5;21;01mpandas\u001B[39;00m \u001B[38;5;28;01mas\u001B[39;00m \u001B[38;5;21;01mpd\u001B[39;00m\n\u001B[0;32m     32\u001B[0m \u001B[38;5;28;01mimport\u001B[39;00m \u001B[38;5;21;01mapache_beam\u001B[39;00m \u001B[38;5;28;01mas\u001B[39;00m \u001B[38;5;21;01mbeam\u001B[39;00m\n\u001B[1;32m---> 33\u001B[0m \u001B[38;5;28;01mfrom\u001B[39;00m \u001B[38;5;21;01mapache_beam\u001B[39;00m\u001B[38;5;21;01m.\u001B[39;00m\u001B[38;5;21;01mdataframe\u001B[39;00m\u001B[38;5;21;01m.\u001B[39;00m\u001B[38;5;21;01mconvert\u001B[39;00m \u001B[38;5;28;01mimport\u001B[39;00m to_pcollection\n\u001B[0;32m     34\u001B[0m \u001B[38;5;28;01mfrom\u001B[39;00m \u001B[38;5;21;01mapache_beam\u001B[39;00m\u001B[38;5;21;01m.\u001B[39;00m\u001B[38;5;21;01mdataframe\u001B[39;00m\u001B[38;5;21;01m.\u001B[39;00m\u001B[38;5;21;01mframe_base\u001B[39;00m \u001B[38;5;28;01mimport\u001B[39;00m DeferredBase\n\u001B[0;32m     35\u001B[0m \u001B[38;5;28;01mfrom\u001B[39;00m \u001B[38;5;21;01mapache_beam\u001B[39;00m\u001B[38;5;21;01m.\u001B[39;00m\u001B[38;5;21;01mportability\u001B[39;00m\u001B[38;5;21;01m.\u001B[39;00m\u001B[38;5;21;01mapi\u001B[39;00m\u001B[38;5;21;01m.\u001B[39;00m\u001B[38;5;21;01mbeam_runner_api_pb2\u001B[39;00m \u001B[38;5;28;01mimport\u001B[39;00m TestStreamPayload\n",
      "File \u001B[1;32mC:\\ProgramData\\Anaconda3\\envs\\frame-interpolation\\lib\\site-packages\\apache_beam\\dataframe\\convert.py:32\u001B[0m\n\u001B[0;32m     30\u001B[0m \u001B[38;5;28;01mfrom\u001B[39;00m \u001B[38;5;21;01mapache_beam\u001B[39;00m\u001B[38;5;21;01m.\u001B[39;00m\u001B[38;5;21;01mdataframe\u001B[39;00m \u001B[38;5;28;01mimport\u001B[39;00m frame_base\n\u001B[0;32m     31\u001B[0m \u001B[38;5;28;01mfrom\u001B[39;00m \u001B[38;5;21;01mapache_beam\u001B[39;00m\u001B[38;5;21;01m.\u001B[39;00m\u001B[38;5;21;01mdataframe\u001B[39;00m \u001B[38;5;28;01mimport\u001B[39;00m schemas\n\u001B[1;32m---> 32\u001B[0m \u001B[38;5;28;01mfrom\u001B[39;00m \u001B[38;5;21;01mapache_beam\u001B[39;00m\u001B[38;5;21;01m.\u001B[39;00m\u001B[38;5;21;01mdataframe\u001B[39;00m \u001B[38;5;28;01mimport\u001B[39;00m transforms\n\u001B[0;32m     34\u001B[0m \u001B[38;5;28;01mif\u001B[39;00m TYPE_CHECKING:\n\u001B[0;32m     35\u001B[0m   \u001B[38;5;66;03m# pylint: disable=ungrouped-imports\u001B[39;00m\n\u001B[0;32m     36\u001B[0m   \u001B[38;5;28;01mfrom\u001B[39;00m \u001B[38;5;21;01mtyping\u001B[39;00m \u001B[38;5;28;01mimport\u001B[39;00m Optional\n",
      "File \u001B[1;32mC:\\ProgramData\\Anaconda3\\envs\\frame-interpolation\\lib\\site-packages\\apache_beam\\dataframe\\transforms.py:32\u001B[0m\n\u001B[0;32m     30\u001B[0m \u001B[38;5;28;01mfrom\u001B[39;00m \u001B[38;5;21;01mapache_beam\u001B[39;00m \u001B[38;5;28;01mimport\u001B[39;00m transforms\n\u001B[0;32m     31\u001B[0m \u001B[38;5;28;01mfrom\u001B[39;00m \u001B[38;5;21;01mapache_beam\u001B[39;00m\u001B[38;5;21;01m.\u001B[39;00m\u001B[38;5;21;01mdataframe\u001B[39;00m \u001B[38;5;28;01mimport\u001B[39;00m expressions\n\u001B[1;32m---> 32\u001B[0m \u001B[38;5;28;01mfrom\u001B[39;00m \u001B[38;5;21;01mapache_beam\u001B[39;00m\u001B[38;5;21;01m.\u001B[39;00m\u001B[38;5;21;01mdataframe\u001B[39;00m \u001B[38;5;28;01mimport\u001B[39;00m frames  \u001B[38;5;66;03m# pylint: disable=unused-import\u001B[39;00m\n\u001B[0;32m     33\u001B[0m \u001B[38;5;28;01mfrom\u001B[39;00m \u001B[38;5;21;01mapache_beam\u001B[39;00m\u001B[38;5;21;01m.\u001B[39;00m\u001B[38;5;21;01mdataframe\u001B[39;00m \u001B[38;5;28;01mimport\u001B[39;00m partitionings\n\u001B[0;32m     34\u001B[0m \u001B[38;5;28;01mfrom\u001B[39;00m \u001B[38;5;21;01mapache_beam\u001B[39;00m\u001B[38;5;21;01m.\u001B[39;00m\u001B[38;5;21;01mutils\u001B[39;00m \u001B[38;5;28;01mimport\u001B[39;00m windowed_value\n",
      "File \u001B[1;32mC:\\ProgramData\\Anaconda3\\envs\\frame-interpolation\\lib\\site-packages\\apache_beam\\dataframe\\frames.py:1077\u001B[0m\n\u001B[0;32m   1065\u001B[0m   transform \u001B[38;5;241m=\u001B[39m frame_base\u001B[38;5;241m.\u001B[39m_elementwise_method(\u001B[38;5;124m'\u001B[39m\u001B[38;5;124mtransform\u001B[39m\u001B[38;5;124m'\u001B[39m, base\u001B[38;5;241m=\u001B[39mpd\u001B[38;5;241m.\u001B[39mDataFrame)\n\u001B[0;32m   1067\u001B[0m   tz_convert \u001B[38;5;241m=\u001B[39m frame_base\u001B[38;5;241m.\u001B[39m_proxy_method(\n\u001B[0;32m   1068\u001B[0m       \u001B[38;5;124m'\u001B[39m\u001B[38;5;124mtz_convert\u001B[39m\u001B[38;5;124m'\u001B[39m,\n\u001B[0;32m   1069\u001B[0m       base\u001B[38;5;241m=\u001B[39mpd\u001B[38;5;241m.\u001B[39mDataFrame,\n\u001B[0;32m   1070\u001B[0m       requires_partition_by\u001B[38;5;241m=\u001B[39mpartitionings\u001B[38;5;241m.\u001B[39mArbitrary(),\n\u001B[0;32m   1071\u001B[0m       \u001B[38;5;66;03m# Manipulates index, partitioning is not preserved\u001B[39;00m\n\u001B[0;32m   1072\u001B[0m       preserves_partition_by\u001B[38;5;241m=\u001B[39mpartitionings\u001B[38;5;241m.\u001B[39mSingleton())\n\u001B[0;32m   1075\u001B[0m \u001B[38;5;129m@populate_not_implemented\u001B[39m(pd\u001B[38;5;241m.\u001B[39mSeries)\n\u001B[0;32m   1076\u001B[0m \u001B[38;5;129m@frame_base\u001B[39m\u001B[38;5;241m.\u001B[39mDeferredFrame\u001B[38;5;241m.\u001B[39m_register_for(pd\u001B[38;5;241m.\u001B[39mSeries)\n\u001B[1;32m-> 1077\u001B[0m \u001B[38;5;28;01mclass\u001B[39;00m \u001B[38;5;21;01mDeferredSeries\u001B[39;00m(DeferredDataFrameOrSeries):\n\u001B[0;32m   1078\u001B[0m   \u001B[38;5;28;01mdef\u001B[39;00m \u001B[38;5;21m__repr__\u001B[39m(\u001B[38;5;28mself\u001B[39m):\n\u001B[0;32m   1079\u001B[0m     \u001B[38;5;28;01mreturn\u001B[39;00m (\n\u001B[0;32m   1080\u001B[0m         \u001B[38;5;124mf\u001B[39m\u001B[38;5;124m'\u001B[39m\u001B[38;5;124mDeferredSeries(name=\u001B[39m\u001B[38;5;132;01m{\u001B[39;00m\u001B[38;5;28mself\u001B[39m\u001B[38;5;241m.\u001B[39mname\u001B[38;5;132;01m!r}\u001B[39;00m\u001B[38;5;124m, dtype=\u001B[39m\u001B[38;5;132;01m{\u001B[39;00m\u001B[38;5;28mself\u001B[39m\u001B[38;5;241m.\u001B[39mdtype\u001B[38;5;132;01m}\u001B[39;00m\u001B[38;5;124m, \u001B[39m\u001B[38;5;124m'\u001B[39m\n\u001B[0;32m   1081\u001B[0m         \u001B[38;5;124mf\u001B[39m\u001B[38;5;124m'\u001B[39m\u001B[38;5;132;01m{\u001B[39;00m\u001B[38;5;28mself\u001B[39m\u001B[38;5;241m.\u001B[39m_render_indexes()\u001B[38;5;132;01m}\u001B[39;00m\u001B[38;5;124m)\u001B[39m\u001B[38;5;124m'\u001B[39m)\n",
      "File \u001B[1;32mC:\\ProgramData\\Anaconda3\\envs\\frame-interpolation\\lib\\site-packages\\apache_beam\\dataframe\\frames.py:1168\u001B[0m, in \u001B[0;36mDeferredSeries\u001B[1;34m()\u001B[0m\n\u001B[0;32m   1160\u001B[0m transpose \u001B[38;5;241m=\u001B[39m frame_base\u001B[38;5;241m.\u001B[39m_elementwise_method(\u001B[38;5;124m'\u001B[39m\u001B[38;5;124mtranspose\u001B[39m\u001B[38;5;124m'\u001B[39m, base\u001B[38;5;241m=\u001B[39mpd\u001B[38;5;241m.\u001B[39mSeries)\n\u001B[0;32m   1161\u001B[0m shape \u001B[38;5;241m=\u001B[39m \u001B[38;5;28mproperty\u001B[39m(\n\u001B[0;32m   1162\u001B[0m     frame_base\u001B[38;5;241m.\u001B[39mwont_implement_method(\n\u001B[0;32m   1163\u001B[0m         pd\u001B[38;5;241m.\u001B[39mSeries, \u001B[38;5;124m'\u001B[39m\u001B[38;5;124mshape\u001B[39m\u001B[38;5;124m'\u001B[39m, reason\u001B[38;5;241m=\u001B[39m\u001B[38;5;124m\"\u001B[39m\u001B[38;5;124mnon-deferred-result\u001B[39m\u001B[38;5;124m\"\u001B[39m))\n\u001B[0;32m   1165\u001B[0m \u001B[43m\u001B[49m\u001B[38;5;129;43m@frame_base\u001B[39;49m\u001B[38;5;241;43m.\u001B[39;49m\u001B[43mwith_docs_from\u001B[49m\u001B[43m(\u001B[49m\u001B[43mpd\u001B[49m\u001B[38;5;241;43m.\u001B[39;49m\u001B[43mSeries\u001B[49m\u001B[43m)\u001B[49m\n\u001B[0;32m   1166\u001B[0m \u001B[43m\u001B[49m\u001B[38;5;129;43m@frame_base\u001B[39;49m\u001B[38;5;241;43m.\u001B[39;49m\u001B[43margs_to_kwargs\u001B[49m\u001B[43m(\u001B[49m\u001B[43mpd\u001B[49m\u001B[38;5;241;43m.\u001B[39;49m\u001B[43mSeries\u001B[49m\u001B[43m)\u001B[49m\n\u001B[0;32m   1167\u001B[0m \u001B[43m\u001B[49m\u001B[38;5;129;43m@frame_base\u001B[39;49m\u001B[38;5;241;43m.\u001B[39;49m\u001B[43mpopulate_defaults\u001B[49m\u001B[43m(\u001B[49m\u001B[43mpd\u001B[49m\u001B[38;5;241;43m.\u001B[39;49m\u001B[43mSeries\u001B[49m\u001B[43m)\u001B[49m\n\u001B[1;32m-> 1168\u001B[0m \u001B[43m\u001B[49m\u001B[38;5;28;43;01mdef\u001B[39;49;00m\u001B[43m \u001B[49m\u001B[38;5;21;43mappend\u001B[39;49m\u001B[43m(\u001B[49m\u001B[38;5;28;43mself\u001B[39;49m\u001B[43m,\u001B[49m\u001B[43m \u001B[49m\u001B[43mto_append\u001B[49m\u001B[43m,\u001B[49m\u001B[43m \u001B[49m\u001B[43mignore_index\u001B[49m\u001B[43m,\u001B[49m\u001B[43m \u001B[49m\u001B[43mverify_integrity\u001B[49m\u001B[43m,\u001B[49m\u001B[43m \u001B[49m\u001B[38;5;241;43m*\u001B[39;49m\u001B[38;5;241;43m*\u001B[39;49m\u001B[43mkwargs\u001B[49m\u001B[43m)\u001B[49m\u001B[43m:\u001B[49m\n\u001B[0;32m   1169\u001B[0m \u001B[38;5;250;43m  \u001B[39;49m\u001B[38;5;124;43;03m\"\"\"``ignore_index=True`` is not supported, because it requires generating an\u001B[39;49;00m\n\u001B[0;32m   1170\u001B[0m \u001B[38;5;124;43;03m  order-sensitive index.\"\"\"\u001B[39;49;00m\n\u001B[0;32m   1171\u001B[0m \u001B[43m  \u001B[49m\u001B[38;5;28;43;01mif\u001B[39;49;00m\u001B[43m \u001B[49m\u001B[38;5;129;43;01mnot\u001B[39;49;00m\u001B[43m \u001B[49m\u001B[38;5;28;43misinstance\u001B[39;49m\u001B[43m(\u001B[49m\u001B[43mto_append\u001B[49m\u001B[43m,\u001B[49m\u001B[43m \u001B[49m\u001B[43mDeferredSeries\u001B[49m\u001B[43m)\u001B[49m\u001B[43m:\u001B[49m\n",
      "File \u001B[1;32mC:\\ProgramData\\Anaconda3\\envs\\frame-interpolation\\lib\\site-packages\\apache_beam\\dataframe\\frame_base.py:561\u001B[0m, in \u001B[0;36mpopulate_defaults.<locals>.wrap\u001B[1;34m(func)\u001B[0m\n\u001B[0;32m    560\u001B[0m \u001B[38;5;28;01mdef\u001B[39;00m \u001B[38;5;21mwrap\u001B[39m(func):\n\u001B[1;32m--> 561\u001B[0m   base_argspec \u001B[38;5;241m=\u001B[39m getfullargspec(unwrap(\u001B[38;5;28;43mgetattr\u001B[39;49m\u001B[43m(\u001B[49m\u001B[43mbase_type\u001B[49m\u001B[43m,\u001B[49m\u001B[43m \u001B[49m\u001B[43mfunc\u001B[49m\u001B[38;5;241;43m.\u001B[39;49m\u001B[38;5;18;43m__name__\u001B[39;49m\u001B[43m)\u001B[49m))\n\u001B[0;32m    562\u001B[0m   \u001B[38;5;28;01mif\u001B[39;00m \u001B[38;5;129;01mnot\u001B[39;00m base_argspec\u001B[38;5;241m.\u001B[39mdefaults:\n\u001B[0;32m    563\u001B[0m     \u001B[38;5;28;01mreturn\u001B[39;00m func\n",
      "\u001B[1;31mAttributeError\u001B[0m: type object 'Series' has no attribute 'append'"
     ]
    }
   ],
   "source": [
    "(pipeline | 'Create directory names' >> beam.Create(directories)  # pylint: disable=expression-not-assigned\n",
    "   | 'Process directories' >> beam.ParDo(ProcessDirectory()))"
   ],
   "metadata": {
    "collapsed": false,
    "ExecuteTime": {
     "end_time": "2023-06-09T16:57:45.036657600Z",
     "start_time": "2023-06-09T16:57:44.127048300Z"
    }
   }
  },
  {
   "cell_type": "code",
   "execution_count": null,
   "outputs": [],
   "source": [
    "result = pipeline.run()\n",
    "result.wait_until_finish()"
   ],
   "metadata": {
    "collapsed": false
   }
  },
  {
   "cell_type": "code",
   "execution_count": 6,
   "outputs": [
    {
     "name": "stdout",
     "output_type": "stream",
     "text": [
      "['\\\\\\\\shelter\\\\Kyu\\\\motility_interpolation\\\\filmtest_train_skip5\\\\sequences\\\\xy001\\\\000', '\\\\\\\\shelter\\\\Kyu\\\\motility_interpolation\\\\filmtest_train_skip5\\\\sequences\\\\xy001\\\\001']\n"
     ]
    },
    {
     "ename": "AttributeError",
     "evalue": "type object 'Series' has no attribute 'append'",
     "output_type": "error",
     "traceback": [
      "\u001B[1;31m---------------------------------------------------------------------------\u001B[0m",
      "\u001B[1;31mAttributeError\u001B[0m                            Traceback (most recent call last)",
      "Cell \u001B[1;32mIn[6], line 20\u001B[0m\n\u001B[0;32m     17\u001B[0m input_ext\u001B[38;5;241m=\u001B[39m[\u001B[38;5;124m'\u001B[39m\u001B[38;5;124m1.png\u001B[39m\u001B[38;5;124m'\u001B[39m,\u001B[38;5;124m'\u001B[39m\u001B[38;5;124m3.png\u001B[39m\u001B[38;5;124m'\u001B[39m]\n\u001B[0;32m     19\u001B[0m pipeline \u001B[38;5;241m=\u001B[39m beam\u001B[38;5;241m.\u001B[39mPipeline(\u001B[38;5;124m'\u001B[39m\u001B[38;5;124mDirectRunner\u001B[39m\u001B[38;5;124m'\u001B[39m)\n\u001B[1;32m---> 20\u001B[0m (\u001B[43mpipeline\u001B[49m\u001B[43m \u001B[49m\u001B[38;5;241;43m|\u001B[39;49m\u001B[43m \u001B[49m\u001B[38;5;124;43m'\u001B[39;49m\u001B[38;5;124;43mCreate directory names\u001B[39;49m\u001B[38;5;124;43m'\u001B[39;49m\u001B[43m \u001B[49m\u001B[38;5;241;43m>>\u001B[39;49m\u001B[43m \u001B[49m\u001B[43mbeam\u001B[49m\u001B[38;5;241;43m.\u001B[39;49m\u001B[43mCreate\u001B[49m\u001B[43m(\u001B[49m\u001B[43mdirectories\u001B[49m\u001B[43m)\u001B[49m  \u001B[38;5;66;03m# pylint: disable=expression-not-assigned\u001B[39;00m\n\u001B[0;32m     21\u001B[0m    \u001B[38;5;241m|\u001B[39m \u001B[38;5;124m'\u001B[39m\u001B[38;5;124mProcess directories\u001B[39m\u001B[38;5;124m'\u001B[39m \u001B[38;5;241m>>\u001B[39m beam\u001B[38;5;241m.\u001B[39mParDo(ProcessDirectory()))\n\u001B[0;32m     22\u001B[0m result \u001B[38;5;241m=\u001B[39m pipeline\u001B[38;5;241m.\u001B[39mrun()\n\u001B[0;32m     23\u001B[0m result\u001B[38;5;241m.\u001B[39mwait_until_finish()\n",
      "File \u001B[1;32mC:\\ProgramData\\Anaconda3\\envs\\frame-interpolation\\lib\\site-packages\\apache_beam\\transforms\\ptransform.py:1090\u001B[0m, in \u001B[0;36m_NamedPTransform.__ror__\u001B[1;34m(self, pvalueish, _unused)\u001B[0m\n\u001B[0;32m   1089\u001B[0m \u001B[38;5;28;01mdef\u001B[39;00m \u001B[38;5;21m__ror__\u001B[39m(\u001B[38;5;28mself\u001B[39m, pvalueish, _unused\u001B[38;5;241m=\u001B[39m\u001B[38;5;28;01mNone\u001B[39;00m):\n\u001B[1;32m-> 1090\u001B[0m   \u001B[38;5;28;01mreturn\u001B[39;00m \u001B[38;5;28;43mself\u001B[39;49m\u001B[38;5;241;43m.\u001B[39;49m\u001B[43mtransform\u001B[49m\u001B[38;5;241;43m.\u001B[39;49m\u001B[38;5;21;43m__ror__\u001B[39;49m\u001B[43m(\u001B[49m\u001B[43mpvalueish\u001B[49m\u001B[43m,\u001B[49m\u001B[43m \u001B[49m\u001B[38;5;28;43mself\u001B[39;49m\u001B[38;5;241;43m.\u001B[39;49m\u001B[43mlabel\u001B[49m\u001B[43m)\u001B[49m\n",
      "File \u001B[1;32mC:\\ProgramData\\Anaconda3\\envs\\frame-interpolation\\lib\\site-packages\\apache_beam\\transforms\\ptransform.py:614\u001B[0m, in \u001B[0;36mPTransform.__ror__\u001B[1;34m(self, left, label)\u001B[0m\n\u001B[0;32m    612\u001B[0m pvalueish \u001B[38;5;241m=\u001B[39m _SetInputPValues()\u001B[38;5;241m.\u001B[39mvisit(pvalueish, replacements)\n\u001B[0;32m    613\u001B[0m \u001B[38;5;28mself\u001B[39m\u001B[38;5;241m.\u001B[39mpipeline \u001B[38;5;241m=\u001B[39m p\n\u001B[1;32m--> 614\u001B[0m result \u001B[38;5;241m=\u001B[39m \u001B[43mp\u001B[49m\u001B[38;5;241;43m.\u001B[39;49m\u001B[43mapply\u001B[49m\u001B[43m(\u001B[49m\u001B[38;5;28;43mself\u001B[39;49m\u001B[43m,\u001B[49m\u001B[43m \u001B[49m\u001B[43mpvalueish\u001B[49m\u001B[43m,\u001B[49m\u001B[43m \u001B[49m\u001B[43mlabel\u001B[49m\u001B[43m)\u001B[49m\n\u001B[0;32m    615\u001B[0m \u001B[38;5;28;01mif\u001B[39;00m deferred:\n\u001B[0;32m    616\u001B[0m   \u001B[38;5;28;01mreturn\u001B[39;00m result\n",
      "File \u001B[1;32mC:\\ProgramData\\Anaconda3\\envs\\frame-interpolation\\lib\\site-packages\\apache_beam\\pipeline.py:662\u001B[0m, in \u001B[0;36mPipeline.apply\u001B[1;34m(self, transform, pvalueish, label)\u001B[0m\n\u001B[0;32m    660\u001B[0m \u001B[38;5;28;01mtry\u001B[39;00m:\n\u001B[0;32m    661\u001B[0m   old_label, transform\u001B[38;5;241m.\u001B[39mlabel \u001B[38;5;241m=\u001B[39m transform\u001B[38;5;241m.\u001B[39mlabel, label\n\u001B[1;32m--> 662\u001B[0m   \u001B[38;5;28;01mreturn\u001B[39;00m \u001B[38;5;28;43mself\u001B[39;49m\u001B[38;5;241;43m.\u001B[39;49m\u001B[43mapply\u001B[49m\u001B[43m(\u001B[49m\u001B[43mtransform\u001B[49m\u001B[43m,\u001B[49m\u001B[43m \u001B[49m\u001B[43mpvalueish\u001B[49m\u001B[43m)\u001B[49m\n\u001B[0;32m    663\u001B[0m \u001B[38;5;28;01mfinally\u001B[39;00m:\n\u001B[0;32m    664\u001B[0m   transform\u001B[38;5;241m.\u001B[39mlabel \u001B[38;5;241m=\u001B[39m old_label\n",
      "File \u001B[1;32mC:\\ProgramData\\Anaconda3\\envs\\frame-interpolation\\lib\\site-packages\\apache_beam\\pipeline.py:670\u001B[0m, in \u001B[0;36mPipeline.apply\u001B[1;34m(self, transform, pvalueish, label)\u001B[0m\n\u001B[0;32m    666\u001B[0m \u001B[38;5;66;03m# Attempts to alter the label of the transform to be applied only when it's\u001B[39;00m\n\u001B[0;32m    667\u001B[0m \u001B[38;5;66;03m# a top-level transform so that the cell number will not be prepended to\u001B[39;00m\n\u001B[0;32m    668\u001B[0m \u001B[38;5;66;03m# every child transform in a composite.\u001B[39;00m\n\u001B[0;32m    669\u001B[0m \u001B[38;5;28;01mif\u001B[39;00m \u001B[38;5;28mself\u001B[39m\u001B[38;5;241m.\u001B[39m_current_transform() \u001B[38;5;129;01mis\u001B[39;00m \u001B[38;5;28mself\u001B[39m\u001B[38;5;241m.\u001B[39m_root_transform():\n\u001B[1;32m--> 670\u001B[0m   \u001B[43malter_label_if_ipython\u001B[49m\u001B[43m(\u001B[49m\u001B[43mtransform\u001B[49m\u001B[43m,\u001B[49m\u001B[43m \u001B[49m\u001B[43mpvalueish\u001B[49m\u001B[43m)\u001B[49m\n\u001B[0;32m    672\u001B[0m full_label \u001B[38;5;241m=\u001B[39m \u001B[38;5;124m'\u001B[39m\u001B[38;5;124m/\u001B[39m\u001B[38;5;124m'\u001B[39m\u001B[38;5;241m.\u001B[39mjoin(\n\u001B[0;32m    673\u001B[0m     [\u001B[38;5;28mself\u001B[39m\u001B[38;5;241m.\u001B[39m_current_transform()\u001B[38;5;241m.\u001B[39mfull_label, label \u001B[38;5;129;01mor\u001B[39;00m\n\u001B[0;32m    674\u001B[0m      transform\u001B[38;5;241m.\u001B[39mlabel])\u001B[38;5;241m.\u001B[39mlstrip(\u001B[38;5;124m'\u001B[39m\u001B[38;5;124m/\u001B[39m\u001B[38;5;124m'\u001B[39m)\n\u001B[0;32m    675\u001B[0m \u001B[38;5;28;01mif\u001B[39;00m full_label \u001B[38;5;129;01min\u001B[39;00m \u001B[38;5;28mself\u001B[39m\u001B[38;5;241m.\u001B[39mapplied_labels:\n",
      "File \u001B[1;32mC:\\ProgramData\\Anaconda3\\envs\\frame-interpolation\\lib\\site-packages\\apache_beam\\utils\\interactive_utils.py:74\u001B[0m, in \u001B[0;36malter_label_if_ipython\u001B[1;34m(transform, pvalueish)\u001B[0m\n\u001B[0;32m     62\u001B[0m \u001B[38;5;250m\u001B[39m\u001B[38;5;124;03m\"\"\"Alters the label to an interactive label with ipython prompt metadata\u001B[39;00m\n\u001B[0;32m     63\u001B[0m \u001B[38;5;124;03mprefixed for the given transform if the given pvalueish belongs to a\u001B[39;00m\n\u001B[0;32m     64\u001B[0m \u001B[38;5;124;03muser-defined pipeline and current code execution is within an ipython kernel.\u001B[39;00m\n\u001B[1;32m   (...)\u001B[0m\n\u001B[0;32m     71\u001B[0m \u001B[38;5;124;03m`Cell {prompt}: {original_label}`.\u001B[39;00m\n\u001B[0;32m     72\u001B[0m \u001B[38;5;124;03m\"\"\"\u001B[39;00m\n\u001B[0;32m     73\u001B[0m \u001B[38;5;28;01mif\u001B[39;00m is_in_ipython():\n\u001B[1;32m---> 74\u001B[0m   \u001B[38;5;28;01mfrom\u001B[39;00m \u001B[38;5;21;01mapache_beam\u001B[39;00m\u001B[38;5;21;01m.\u001B[39;00m\u001B[38;5;21;01mrunners\u001B[39;00m\u001B[38;5;21;01m.\u001B[39;00m\u001B[38;5;21;01minteractive\u001B[39;00m \u001B[38;5;28;01mimport\u001B[39;00m interactive_environment \u001B[38;5;28;01mas\u001B[39;00m ie\n\u001B[0;32m     75\u001B[0m   \u001B[38;5;66;03m# Tracks user defined pipeline instances in watched scopes so that we only\u001B[39;00m\n\u001B[0;32m     76\u001B[0m   \u001B[38;5;66;03m# alter labels for any transform to pvalueish belonging to those pipeline\u001B[39;00m\n\u001B[0;32m     77\u001B[0m   \u001B[38;5;66;03m# instances, excluding any transform to be applied in other pipeline\u001B[39;00m\n\u001B[0;32m     78\u001B[0m   \u001B[38;5;66;03m# instances the Beam SDK creates implicitly.\u001B[39;00m\n\u001B[0;32m     79\u001B[0m   ie\u001B[38;5;241m.\u001B[39mcurrent_env()\u001B[38;5;241m.\u001B[39mtrack_user_pipelines()\n",
      "File \u001B[1;32mC:\\ProgramData\\Anaconda3\\envs\\frame-interpolation\\lib\\site-packages\\apache_beam\\runners\\interactive\\interactive_environment.py:37\u001B[0m\n\u001B[0;32m     35\u001B[0m \u001B[38;5;28;01mfrom\u001B[39;00m \u001B[38;5;21;01mapache_beam\u001B[39;00m\u001B[38;5;21;01m.\u001B[39;00m\u001B[38;5;21;01mrunners\u001B[39;00m \u001B[38;5;28;01mimport\u001B[39;00m runner\n\u001B[0;32m     36\u001B[0m \u001B[38;5;28;01mfrom\u001B[39;00m \u001B[38;5;21;01mapache_beam\u001B[39;00m\u001B[38;5;21;01m.\u001B[39;00m\u001B[38;5;21;01mrunners\u001B[39;00m\u001B[38;5;21;01m.\u001B[39;00m\u001B[38;5;21;01minteractive\u001B[39;00m \u001B[38;5;28;01mimport\u001B[39;00m cache_manager \u001B[38;5;28;01mas\u001B[39;00m cache\n\u001B[1;32m---> 37\u001B[0m \u001B[38;5;28;01mfrom\u001B[39;00m \u001B[38;5;21;01mapache_beam\u001B[39;00m\u001B[38;5;21;01m.\u001B[39;00m\u001B[38;5;21;01mrunners\u001B[39;00m\u001B[38;5;21;01m.\u001B[39;00m\u001B[38;5;21;01minteractive\u001B[39;00m\u001B[38;5;21;01m.\u001B[39;00m\u001B[38;5;21;01mmessaging\u001B[39;00m\u001B[38;5;21;01m.\u001B[39;00m\u001B[38;5;21;01minteractive_environment_inspector\u001B[39;00m \u001B[38;5;28;01mimport\u001B[39;00m InteractiveEnvironmentInspector\n\u001B[0;32m     38\u001B[0m \u001B[38;5;28;01mfrom\u001B[39;00m \u001B[38;5;21;01mapache_beam\u001B[39;00m\u001B[38;5;21;01m.\u001B[39;00m\u001B[38;5;21;01mrunners\u001B[39;00m\u001B[38;5;21;01m.\u001B[39;00m\u001B[38;5;21;01minteractive\u001B[39;00m\u001B[38;5;21;01m.\u001B[39;00m\u001B[38;5;21;01mrecording_manager\u001B[39;00m \u001B[38;5;28;01mimport\u001B[39;00m RecordingManager\n\u001B[0;32m     39\u001B[0m \u001B[38;5;28;01mfrom\u001B[39;00m \u001B[38;5;21;01mapache_beam\u001B[39;00m\u001B[38;5;21;01m.\u001B[39;00m\u001B[38;5;21;01mrunners\u001B[39;00m\u001B[38;5;21;01m.\u001B[39;00m\u001B[38;5;21;01minteractive\u001B[39;00m\u001B[38;5;21;01m.\u001B[39;00m\u001B[38;5;21;01msql\u001B[39;00m\u001B[38;5;21;01m.\u001B[39;00m\u001B[38;5;21;01msql_chain\u001B[39;00m \u001B[38;5;28;01mimport\u001B[39;00m SqlChain\n",
      "File \u001B[1;32mC:\\ProgramData\\Anaconda3\\envs\\frame-interpolation\\lib\\site-packages\\apache_beam\\runners\\interactive\\messaging\\interactive_environment_inspector.py:26\u001B[0m\n\u001B[0;32m     23\u001B[0m \u001B[38;5;66;03m# pytype: skip-file\u001B[39;00m\n\u001B[0;32m     25\u001B[0m \u001B[38;5;28;01mimport\u001B[39;00m \u001B[38;5;21;01mapache_beam\u001B[39;00m \u001B[38;5;28;01mas\u001B[39;00m \u001B[38;5;21;01mbeam\u001B[39;00m\n\u001B[1;32m---> 26\u001B[0m \u001B[38;5;28;01mfrom\u001B[39;00m \u001B[38;5;21;01mapache_beam\u001B[39;00m\u001B[38;5;21;01m.\u001B[39;00m\u001B[38;5;21;01mrunners\u001B[39;00m\u001B[38;5;21;01m.\u001B[39;00m\u001B[38;5;21;01minteractive\u001B[39;00m\u001B[38;5;21;01m.\u001B[39;00m\u001B[38;5;21;01mutils\u001B[39;00m \u001B[38;5;28;01mimport\u001B[39;00m as_json\n\u001B[0;32m     27\u001B[0m \u001B[38;5;28;01mfrom\u001B[39;00m \u001B[38;5;21;01mapache_beam\u001B[39;00m\u001B[38;5;21;01m.\u001B[39;00m\u001B[38;5;21;01mrunners\u001B[39;00m\u001B[38;5;21;01m.\u001B[39;00m\u001B[38;5;21;01minteractive\u001B[39;00m\u001B[38;5;21;01m.\u001B[39;00m\u001B[38;5;21;01mutils\u001B[39;00m \u001B[38;5;28;01mimport\u001B[39;00m obfuscate\n\u001B[0;32m     30\u001B[0m \u001B[38;5;28;01mclass\u001B[39;00m \u001B[38;5;21;01mInteractiveEnvironmentInspector\u001B[39;00m(\u001B[38;5;28mobject\u001B[39m):\n",
      "File \u001B[1;32mC:\\ProgramData\\Anaconda3\\envs\\frame-interpolation\\lib\\site-packages\\apache_beam\\runners\\interactive\\utils.py:33\u001B[0m\n\u001B[0;32m     30\u001B[0m \u001B[38;5;28;01mimport\u001B[39;00m \u001B[38;5;21;01mpandas\u001B[39;00m \u001B[38;5;28;01mas\u001B[39;00m \u001B[38;5;21;01mpd\u001B[39;00m\n\u001B[0;32m     32\u001B[0m \u001B[38;5;28;01mimport\u001B[39;00m \u001B[38;5;21;01mapache_beam\u001B[39;00m \u001B[38;5;28;01mas\u001B[39;00m \u001B[38;5;21;01mbeam\u001B[39;00m\n\u001B[1;32m---> 33\u001B[0m \u001B[38;5;28;01mfrom\u001B[39;00m \u001B[38;5;21;01mapache_beam\u001B[39;00m\u001B[38;5;21;01m.\u001B[39;00m\u001B[38;5;21;01mdataframe\u001B[39;00m\u001B[38;5;21;01m.\u001B[39;00m\u001B[38;5;21;01mconvert\u001B[39;00m \u001B[38;5;28;01mimport\u001B[39;00m to_pcollection\n\u001B[0;32m     34\u001B[0m \u001B[38;5;28;01mfrom\u001B[39;00m \u001B[38;5;21;01mapache_beam\u001B[39;00m\u001B[38;5;21;01m.\u001B[39;00m\u001B[38;5;21;01mdataframe\u001B[39;00m\u001B[38;5;21;01m.\u001B[39;00m\u001B[38;5;21;01mframe_base\u001B[39;00m \u001B[38;5;28;01mimport\u001B[39;00m DeferredBase\n\u001B[0;32m     35\u001B[0m \u001B[38;5;28;01mfrom\u001B[39;00m \u001B[38;5;21;01mapache_beam\u001B[39;00m\u001B[38;5;21;01m.\u001B[39;00m\u001B[38;5;21;01mportability\u001B[39;00m\u001B[38;5;21;01m.\u001B[39;00m\u001B[38;5;21;01mapi\u001B[39;00m\u001B[38;5;21;01m.\u001B[39;00m\u001B[38;5;21;01mbeam_runner_api_pb2\u001B[39;00m \u001B[38;5;28;01mimport\u001B[39;00m TestStreamPayload\n",
      "File \u001B[1;32mC:\\ProgramData\\Anaconda3\\envs\\frame-interpolation\\lib\\site-packages\\apache_beam\\dataframe\\convert.py:32\u001B[0m\n\u001B[0;32m     30\u001B[0m \u001B[38;5;28;01mfrom\u001B[39;00m \u001B[38;5;21;01mapache_beam\u001B[39;00m\u001B[38;5;21;01m.\u001B[39;00m\u001B[38;5;21;01mdataframe\u001B[39;00m \u001B[38;5;28;01mimport\u001B[39;00m frame_base\n\u001B[0;32m     31\u001B[0m \u001B[38;5;28;01mfrom\u001B[39;00m \u001B[38;5;21;01mapache_beam\u001B[39;00m\u001B[38;5;21;01m.\u001B[39;00m\u001B[38;5;21;01mdataframe\u001B[39;00m \u001B[38;5;28;01mimport\u001B[39;00m schemas\n\u001B[1;32m---> 32\u001B[0m \u001B[38;5;28;01mfrom\u001B[39;00m \u001B[38;5;21;01mapache_beam\u001B[39;00m\u001B[38;5;21;01m.\u001B[39;00m\u001B[38;5;21;01mdataframe\u001B[39;00m \u001B[38;5;28;01mimport\u001B[39;00m transforms\n\u001B[0;32m     34\u001B[0m \u001B[38;5;28;01mif\u001B[39;00m TYPE_CHECKING:\n\u001B[0;32m     35\u001B[0m   \u001B[38;5;66;03m# pylint: disable=ungrouped-imports\u001B[39;00m\n\u001B[0;32m     36\u001B[0m   \u001B[38;5;28;01mfrom\u001B[39;00m \u001B[38;5;21;01mtyping\u001B[39;00m \u001B[38;5;28;01mimport\u001B[39;00m Optional\n",
      "File \u001B[1;32mC:\\ProgramData\\Anaconda3\\envs\\frame-interpolation\\lib\\site-packages\\apache_beam\\dataframe\\transforms.py:32\u001B[0m\n\u001B[0;32m     30\u001B[0m \u001B[38;5;28;01mfrom\u001B[39;00m \u001B[38;5;21;01mapache_beam\u001B[39;00m \u001B[38;5;28;01mimport\u001B[39;00m transforms\n\u001B[0;32m     31\u001B[0m \u001B[38;5;28;01mfrom\u001B[39;00m \u001B[38;5;21;01mapache_beam\u001B[39;00m\u001B[38;5;21;01m.\u001B[39;00m\u001B[38;5;21;01mdataframe\u001B[39;00m \u001B[38;5;28;01mimport\u001B[39;00m expressions\n\u001B[1;32m---> 32\u001B[0m \u001B[38;5;28;01mfrom\u001B[39;00m \u001B[38;5;21;01mapache_beam\u001B[39;00m\u001B[38;5;21;01m.\u001B[39;00m\u001B[38;5;21;01mdataframe\u001B[39;00m \u001B[38;5;28;01mimport\u001B[39;00m frames  \u001B[38;5;66;03m# pylint: disable=unused-import\u001B[39;00m\n\u001B[0;32m     33\u001B[0m \u001B[38;5;28;01mfrom\u001B[39;00m \u001B[38;5;21;01mapache_beam\u001B[39;00m\u001B[38;5;21;01m.\u001B[39;00m\u001B[38;5;21;01mdataframe\u001B[39;00m \u001B[38;5;28;01mimport\u001B[39;00m partitionings\n\u001B[0;32m     34\u001B[0m \u001B[38;5;28;01mfrom\u001B[39;00m \u001B[38;5;21;01mapache_beam\u001B[39;00m\u001B[38;5;21;01m.\u001B[39;00m\u001B[38;5;21;01mutils\u001B[39;00m \u001B[38;5;28;01mimport\u001B[39;00m windowed_value\n",
      "File \u001B[1;32mC:\\ProgramData\\Anaconda3\\envs\\frame-interpolation\\lib\\site-packages\\apache_beam\\dataframe\\frames.py:1077\u001B[0m\n\u001B[0;32m   1065\u001B[0m   transform \u001B[38;5;241m=\u001B[39m frame_base\u001B[38;5;241m.\u001B[39m_elementwise_method(\u001B[38;5;124m'\u001B[39m\u001B[38;5;124mtransform\u001B[39m\u001B[38;5;124m'\u001B[39m, base\u001B[38;5;241m=\u001B[39mpd\u001B[38;5;241m.\u001B[39mDataFrame)\n\u001B[0;32m   1067\u001B[0m   tz_convert \u001B[38;5;241m=\u001B[39m frame_base\u001B[38;5;241m.\u001B[39m_proxy_method(\n\u001B[0;32m   1068\u001B[0m       \u001B[38;5;124m'\u001B[39m\u001B[38;5;124mtz_convert\u001B[39m\u001B[38;5;124m'\u001B[39m,\n\u001B[0;32m   1069\u001B[0m       base\u001B[38;5;241m=\u001B[39mpd\u001B[38;5;241m.\u001B[39mDataFrame,\n\u001B[0;32m   1070\u001B[0m       requires_partition_by\u001B[38;5;241m=\u001B[39mpartitionings\u001B[38;5;241m.\u001B[39mArbitrary(),\n\u001B[0;32m   1071\u001B[0m       \u001B[38;5;66;03m# Manipulates index, partitioning is not preserved\u001B[39;00m\n\u001B[0;32m   1072\u001B[0m       preserves_partition_by\u001B[38;5;241m=\u001B[39mpartitionings\u001B[38;5;241m.\u001B[39mSingleton())\n\u001B[0;32m   1075\u001B[0m \u001B[38;5;129m@populate_not_implemented\u001B[39m(pd\u001B[38;5;241m.\u001B[39mSeries)\n\u001B[0;32m   1076\u001B[0m \u001B[38;5;129m@frame_base\u001B[39m\u001B[38;5;241m.\u001B[39mDeferredFrame\u001B[38;5;241m.\u001B[39m_register_for(pd\u001B[38;5;241m.\u001B[39mSeries)\n\u001B[1;32m-> 1077\u001B[0m \u001B[38;5;28;01mclass\u001B[39;00m \u001B[38;5;21;01mDeferredSeries\u001B[39;00m(DeferredDataFrameOrSeries):\n\u001B[0;32m   1078\u001B[0m   \u001B[38;5;28;01mdef\u001B[39;00m \u001B[38;5;21m__repr__\u001B[39m(\u001B[38;5;28mself\u001B[39m):\n\u001B[0;32m   1079\u001B[0m     \u001B[38;5;28;01mreturn\u001B[39;00m (\n\u001B[0;32m   1080\u001B[0m         \u001B[38;5;124mf\u001B[39m\u001B[38;5;124m'\u001B[39m\u001B[38;5;124mDeferredSeries(name=\u001B[39m\u001B[38;5;132;01m{\u001B[39;00m\u001B[38;5;28mself\u001B[39m\u001B[38;5;241m.\u001B[39mname\u001B[38;5;132;01m!r}\u001B[39;00m\u001B[38;5;124m, dtype=\u001B[39m\u001B[38;5;132;01m{\u001B[39;00m\u001B[38;5;28mself\u001B[39m\u001B[38;5;241m.\u001B[39mdtype\u001B[38;5;132;01m}\u001B[39;00m\u001B[38;5;124m, \u001B[39m\u001B[38;5;124m'\u001B[39m\n\u001B[0;32m   1081\u001B[0m         \u001B[38;5;124mf\u001B[39m\u001B[38;5;124m'\u001B[39m\u001B[38;5;132;01m{\u001B[39;00m\u001B[38;5;28mself\u001B[39m\u001B[38;5;241m.\u001B[39m_render_indexes()\u001B[38;5;132;01m}\u001B[39;00m\u001B[38;5;124m)\u001B[39m\u001B[38;5;124m'\u001B[39m)\n",
      "File \u001B[1;32mC:\\ProgramData\\Anaconda3\\envs\\frame-interpolation\\lib\\site-packages\\apache_beam\\dataframe\\frames.py:1168\u001B[0m, in \u001B[0;36mDeferredSeries\u001B[1;34m()\u001B[0m\n\u001B[0;32m   1160\u001B[0m transpose \u001B[38;5;241m=\u001B[39m frame_base\u001B[38;5;241m.\u001B[39m_elementwise_method(\u001B[38;5;124m'\u001B[39m\u001B[38;5;124mtranspose\u001B[39m\u001B[38;5;124m'\u001B[39m, base\u001B[38;5;241m=\u001B[39mpd\u001B[38;5;241m.\u001B[39mSeries)\n\u001B[0;32m   1161\u001B[0m shape \u001B[38;5;241m=\u001B[39m \u001B[38;5;28mproperty\u001B[39m(\n\u001B[0;32m   1162\u001B[0m     frame_base\u001B[38;5;241m.\u001B[39mwont_implement_method(\n\u001B[0;32m   1163\u001B[0m         pd\u001B[38;5;241m.\u001B[39mSeries, \u001B[38;5;124m'\u001B[39m\u001B[38;5;124mshape\u001B[39m\u001B[38;5;124m'\u001B[39m, reason\u001B[38;5;241m=\u001B[39m\u001B[38;5;124m\"\u001B[39m\u001B[38;5;124mnon-deferred-result\u001B[39m\u001B[38;5;124m\"\u001B[39m))\n\u001B[0;32m   1165\u001B[0m \u001B[43m\u001B[49m\u001B[38;5;129;43m@frame_base\u001B[39;49m\u001B[38;5;241;43m.\u001B[39;49m\u001B[43mwith_docs_from\u001B[49m\u001B[43m(\u001B[49m\u001B[43mpd\u001B[49m\u001B[38;5;241;43m.\u001B[39;49m\u001B[43mSeries\u001B[49m\u001B[43m)\u001B[49m\n\u001B[0;32m   1166\u001B[0m \u001B[43m\u001B[49m\u001B[38;5;129;43m@frame_base\u001B[39;49m\u001B[38;5;241;43m.\u001B[39;49m\u001B[43margs_to_kwargs\u001B[49m\u001B[43m(\u001B[49m\u001B[43mpd\u001B[49m\u001B[38;5;241;43m.\u001B[39;49m\u001B[43mSeries\u001B[49m\u001B[43m)\u001B[49m\n\u001B[0;32m   1167\u001B[0m \u001B[43m\u001B[49m\u001B[38;5;129;43m@frame_base\u001B[39;49m\u001B[38;5;241;43m.\u001B[39;49m\u001B[43mpopulate_defaults\u001B[49m\u001B[43m(\u001B[49m\u001B[43mpd\u001B[49m\u001B[38;5;241;43m.\u001B[39;49m\u001B[43mSeries\u001B[49m\u001B[43m)\u001B[49m\n\u001B[1;32m-> 1168\u001B[0m \u001B[43m\u001B[49m\u001B[38;5;28;43;01mdef\u001B[39;49;00m\u001B[43m \u001B[49m\u001B[38;5;21;43mappend\u001B[39;49m\u001B[43m(\u001B[49m\u001B[38;5;28;43mself\u001B[39;49m\u001B[43m,\u001B[49m\u001B[43m \u001B[49m\u001B[43mto_append\u001B[49m\u001B[43m,\u001B[49m\u001B[43m \u001B[49m\u001B[43mignore_index\u001B[49m\u001B[43m,\u001B[49m\u001B[43m \u001B[49m\u001B[43mverify_integrity\u001B[49m\u001B[43m,\u001B[49m\u001B[43m \u001B[49m\u001B[38;5;241;43m*\u001B[39;49m\u001B[38;5;241;43m*\u001B[39;49m\u001B[43mkwargs\u001B[49m\u001B[43m)\u001B[49m\u001B[43m:\u001B[49m\n\u001B[0;32m   1169\u001B[0m \u001B[38;5;250;43m  \u001B[39;49m\u001B[38;5;124;43;03m\"\"\"``ignore_index=True`` is not supported, because it requires generating an\u001B[39;49;00m\n\u001B[0;32m   1170\u001B[0m \u001B[38;5;124;43;03m  order-sensitive index.\"\"\"\u001B[39;49;00m\n\u001B[0;32m   1171\u001B[0m \u001B[43m  \u001B[49m\u001B[38;5;28;43;01mif\u001B[39;49;00m\u001B[43m \u001B[49m\u001B[38;5;129;43;01mnot\u001B[39;49;00m\u001B[43m \u001B[49m\u001B[38;5;28;43misinstance\u001B[39;49m\u001B[43m(\u001B[49m\u001B[43mto_append\u001B[49m\u001B[43m,\u001B[49m\u001B[43m \u001B[49m\u001B[43mDeferredSeries\u001B[49m\u001B[43m)\u001B[49m\u001B[43m:\u001B[49m\n",
      "File \u001B[1;32mC:\\ProgramData\\Anaconda3\\envs\\frame-interpolation\\lib\\site-packages\\apache_beam\\dataframe\\frame_base.py:561\u001B[0m, in \u001B[0;36mpopulate_defaults.<locals>.wrap\u001B[1;34m(func)\u001B[0m\n\u001B[0;32m    560\u001B[0m \u001B[38;5;28;01mdef\u001B[39;00m \u001B[38;5;21mwrap\u001B[39m(func):\n\u001B[1;32m--> 561\u001B[0m   base_argspec \u001B[38;5;241m=\u001B[39m getfullargspec(unwrap(\u001B[38;5;28;43mgetattr\u001B[39;49m\u001B[43m(\u001B[49m\u001B[43mbase_type\u001B[49m\u001B[43m,\u001B[49m\u001B[43m \u001B[49m\u001B[43mfunc\u001B[49m\u001B[38;5;241;43m.\u001B[39;49m\u001B[38;5;18;43m__name__\u001B[39;49m\u001B[43m)\u001B[49m))\n\u001B[0;32m    562\u001B[0m   \u001B[38;5;28;01mif\u001B[39;00m \u001B[38;5;129;01mnot\u001B[39;00m base_argspec\u001B[38;5;241m.\u001B[39mdefaults:\n\u001B[0;32m    563\u001B[0m     \u001B[38;5;28;01mreturn\u001B[39;00m func\n",
      "\u001B[1;31mAttributeError\u001B[0m: type object 'Series' has no attribute 'append'"
     ]
    }
   ],
   "source": [
    "if __name__=='__main__':\n",
    "    pattern = r\"\\\\shelter\\Kyu\\motility_interpolation\\filmtest_train_skip5\\sequences\\*\\*\"\n",
    "    directories = tf.io.gfile.glob(pattern)\n",
    "    directories = directories[:2]\n",
    "    print(directories)\n",
    "\n",
    "    modelpath=r\"\\\\shelter\\Kyu\\motility_interpolation\\pretrained_models\\film_net\\Style\\saved_model\"\n",
    "    # modelname=os.path.basename(modelpath)\n",
    "    modelname='ogfilm'\n",
    "    time2inter=5\n",
    "\n",
    "    align=64\n",
    "    bh=1\n",
    "    bw=1\n",
    "    outputvideo=False\n",
    "    fps=30\n",
    "    input_ext=['1.png','3.png']\n",
    "\n",
    "    pipeline = beam.Pipeline('DirectRunner')\n",
    "    (pipeline | 'Create directory names' >> beam.Create(directories)  # pylint: disable=expression-not-assigned\n",
    "       | 'Process directories' >> beam.ParDo(ProcessDirectory()))\n",
    "    result = pipeline.run()\n",
    "    result.wait_until_finish()"
   ],
   "metadata": {
    "collapsed": false,
    "ExecuteTime": {
     "end_time": "2023-06-09T16:56:50.406905500Z",
     "start_time": "2023-06-09T16:56:47.858834300Z"
    }
   }
  }
 ],
 "metadata": {
  "kernelspec": {
   "display_name": "Python 3",
   "language": "python",
   "name": "python3"
  },
  "language_info": {
   "codemirror_mode": {
    "name": "ipython",
    "version": 2
   },
   "file_extension": ".py",
   "mimetype": "text/x-python",
   "name": "python",
   "nbconvert_exporter": "python",
   "pygments_lexer": "ipython2",
   "version": "2.7.6"
  }
 },
 "nbformat": 4,
 "nbformat_minor": 0
}
