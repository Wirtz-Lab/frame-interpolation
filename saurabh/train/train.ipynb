{
 "cells": [
  {
   "cell_type": "code",
   "execution_count": null,
   "outputs": [],
   "source": [
    "python -m training.train --gin_config=saurabh/train/config/film_net-skip1.gin --base_folder=\\\\10.99.68.178\\Saurabh\\film_train_v2\\sequences\\trained_models --label=livskip3_8_256_4000_00001_v2"
   ],
   "metadata": {
    "collapsed": false
   }
  },
  {
   "cell_type": "code",
   "execution_count": null,
   "outputs": [],
   "source": [
    "python -m training.build_saved_model_cli --base_folder=\\\\shelter\\Kyu\\motility_interpolation --label=mskip3"
   ],
   "metadata": {
    "collapsed": false
   }
  },
  {
   "cell_type": "code",
   "execution_count": null,
   "outputs": [],
   "source": [
    "python3 -m eval.eval_cli --gin_config eval/config/<eval_dataset>.gin --model_path=\\\\fatherserverdw\\Saurabh\\Saurabh\\Pancreas_Ashley_Files\\trained_model\\mskip1/film_net/L1/saved_model"
   ],
   "metadata": {
    "collapsed": false
   }
  }
 ],
 "metadata": {
  "kernelspec": {
   "display_name": "Python 3",
   "language": "python",
   "name": "python3"
  },
  "language_info": {
   "codemirror_mode": {
    "name": "ipython",
    "version": 2
   },
   "file_extension": ".py",
   "mimetype": "text/x-python",
   "name": "python",
   "nbconvert_exporter": "python",
   "pygments_lexer": "ipython2",
   "version": "2.7.6"
  }
 },
 "nbformat": 4,
 "nbformat_minor": 0
}
