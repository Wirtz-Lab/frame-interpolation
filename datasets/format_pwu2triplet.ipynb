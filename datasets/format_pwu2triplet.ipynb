{
 "cells": [
  {
   "cell_type": "code",
   "execution_count": null,
   "outputs": [],
   "source": [
    "import os\n",
    "from shutil import copyfile"
   ],
   "metadata": {
    "collapsed": false
   }
  },
  {
   "cell_type": "code",
   "execution_count": 11,
   "outputs": [],
   "source": [
    "src=r'C:\\Users\\labadmin\\Documents\\filmtest'\n",
    "dst=r'\\\\shelter\\Kyu\\3D_skin\\wsi\\unstained\\pwu_triplet'\n",
    "dstseq = os.path.join(dst,'sequences')\n",
    "if not os.path.exists(dstseq): os.mkdir(dstseq)"
   ],
   "metadata": {
    "collapsed": false
   }
  },
  {
   "cell_type": "code",
   "execution_count": null,
   "outputs": [],
   "source": [
    "fols = [_ for _ in os.listdir(src) if os.path.isdir(os.path.join(src, _))]\n",
    "\n",
    "tri_testlist = os.path.join(dst, 'tri_testlist.txt')\n",
    "file = open(tri_testlist,'w')\n",
    "for fol in fols:\n",
    "    ims = [_ for _ in os.listdir(os.path.join(*[src,fol,'original_frames'])) if _.endswith(('.png','.jpg','tif'))]\n",
    "    dstroi = os.path.join(dstseq,fol)\n",
    "    if not os.path.exists(dstroi): os.mkdir(dstroi)\n",
    "    for idx,triplet in enumerate(zip(ims[::3],ims[1::3],ims[2::3])):\n",
    "        zidx=str(idx).zfill(3)\n",
    "        file.write(fol+'/'+str(idx).zfill(3)+\"\\n\")\n",
    "        dsttri = os.path.join(dstroi,zidx)\n",
    "        if not os.path.exists(dsttri): os.mkdir(dsttri)\n",
    "        for im in triplet:\n",
    "            copyfile(os.path.join(*[src,fol,'original_frames',im]),os.path.join(dsttri,im))\n",
    "file.close()"
   ],
   "metadata": {
    "collapsed": false
   }
  },
  {
   "cell_type": "code",
   "execution_count": 23,
   "outputs": [],
   "source": [
    "tri_testlist = os.path.join(dst, 'tri_testlist.txt')\n",
    "file = open(tri_testlist,'w')\n",
    "for fol in fols:\n",
    "    ims = [_ for _ in os.listdir(os.path.join(*[src,fol,'original_frames'])) if _.endswith(('.png','.jpg','tif'))]\n",
    "    for idx,triplet in enumerate(zip(ims[::3],ims[1::3],ims[2::3])):\n",
    "        zidx=str(idx).zfill(3)\n",
    "        file.write(fol+'/'+str(idx).zfill(3)+\"\\n\")\n",
    "file.close()"
   ],
   "metadata": {
    "collapsed": false
   }
  },
  {
   "cell_type": "code",
   "execution_count": null,
   "outputs": [],
   "source": [],
   "metadata": {
    "collapsed": false
   }
  }
 ],
 "metadata": {
  "kernelspec": {
   "display_name": "Python 3",
   "language": "python",
   "name": "python3"
  },
  "language_info": {
   "codemirror_mode": {
    "name": "ipython",
    "version": 2
   },
   "file_extension": ".py",
   "mimetype": "text/x-python",
   "name": "python",
   "nbconvert_exporter": "python",
   "pygments_lexer": "ipython2",
   "version": "2.7.6"
  }
 },
 "nbformat": 4,
 "nbformat_minor": 0
}
