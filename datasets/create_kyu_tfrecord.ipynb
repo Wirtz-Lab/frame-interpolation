{
 "cells": [
  {
   "cell_type": "code",
   "execution_count": null,
   "outputs": [],
   "source": [
    "python -m datasets.create_vimeo90K_tfrecord --input_dir=\\\\shelter\\Kyu\\motility_interpolation\\testv1\\sequences --input_triplet_list_filepath=\\\\shelter\\Kyu\\motility_interpolation\\testv1\\sequences.txt --output_tfrecord_filepath=\\\\shelter\\Kyu\\motility_interpolation\\testv1\\sequences.tfrecord --num_shards=5"
   ],
   "metadata": {
    "collapsed": false
   }
  },
  {
   "cell_type": "code",
   "execution_count": null,
   "outputs": [],
   "source": [
    "python -m training.train --gin_config=training/config/film_net-Style.gin --base_folder=\\\\shelter\\Kyu\\motility_interpolation --label=labelfortherun"
   ],
   "metadata": {
    "collapsed": false
   }
  },
  {
   "cell_type": "code",
   "execution_count": null,
   "outputs": [],
   "source": [
    "python -m training.build_saved_model_cli --base_folder=\\\\shelter\\Kyu\\motility_interpolation --label=labelfortherun"
   ],
   "metadata": {
    "collapsed": false
   }
  }
 ],
 "metadata": {
  "kernelspec": {
   "display_name": "Python 3",
   "language": "python",
   "name": "python3"
  },
  "language_info": {
   "codemirror_mode": {
    "name": "ipython",
    "version": 2
   },
   "file_extension": ".py",
   "mimetype": "text/x-python",
   "name": "python",
   "nbconvert_exporter": "python",
   "pygments_lexer": "ipython2",
   "version": "2.7.6"
  }
 },
 "nbformat": 4,
 "nbformat_minor": 0
}
